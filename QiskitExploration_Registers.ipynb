{
 "cells": [
  {
   "cell_type": "markdown",
   "metadata": {},
   "source": [
    "<img src=\"https://news.illinois.edu/files/6367/543635/116641.jpg\" alt=\"University of Illinois\" width=\"250\"/>\n",
    "\n",
    "# Qiskit Exploration: Quantum and Classical Registers\n",
    "By Richard Sowers\n",
    "* <r-sowers@illinois.edu>\n",
    "* <https://publish.illinois.edu/r-sowers/>\n",
    "\n",
    "Copyright 2022\n",
    "University of Illinois Board of Trustees. All Rights Reserved."
   ]
  },
  {
   "cell_type": "markdown",
   "metadata": {},
   "source": [
    "# imports"
   ]
  },
  {
   "cell_type": "code",
   "execution_count": 1,
   "metadata": {},
   "outputs": [],
   "source": [
    "import qiskit\n",
    "import numpy\n",
    "import pandas"
   ]
  },
  {
   "cell_type": "markdown",
   "metadata": {},
   "source": [
    "## conveniences"
   ]
  },
  {
   "cell_type": "code",
   "execution_count": 2,
   "metadata": {},
   "outputs": [],
   "source": [
    "def find_backend(verbose=False):\n",
    "    backends={}\n",
    "    for backend in provider.backends():\n",
    "        try:\n",
    "            qubit_count = len(backend.properties().qubits)\n",
    "        except:\n",
    "            qubit_count = numpy.inf\n",
    "\n",
    "        if qubit_count>=2:\n",
    "            backends[backend.name()]=backend.status().pending_jobs\n",
    "            if verbose:\n",
    "                print(f\"{backend.name()} has {backend.status().pending_jobs} queued and {qubit_count} qubits\")\n",
    "    backends_series=pandas.Series(backends)\n",
    "    return backends_series.idxmin()\n",
    "\n",
    "DEFAULT_BACKEND=\"ibmq_qasm_simulator\""
   ]
  },
  {
   "cell_type": "markdown",
   "metadata": {},
   "source": [
    "# main"
   ]
  },
  {
   "cell_type": "markdown",
   "metadata": {},
   "source": [
    "Quantum registers are converted into classical registers when observed.  We may have unobserved quantum registers.  We may also (although it may not be useful) to have classical registers which are not connected to quantum registers"
   ]
  },
  {
   "cell_type": "code",
   "execution_count": 3,
   "metadata": {},
   "outputs": [
    {
     "name": "stderr",
     "output_type": "stream",
     "text": [
      "configrc.store_credentials:WARNING:2022-05-21 11:46:48,278: Credentials already present. Set overwrite=True to overwrite.\n"
     ]
    }
   ],
   "source": [
    "tokenfile=\"./token.txt\"\n",
    "qiskit.IBMQ.save_account(open(tokenfile, \"r\").read())\n",
    "qiskit.IBMQ.load_account()\n",
    "provider = qiskit.IBMQ.get_provider(\"ibm-q\")"
   ]
  },
  {
   "cell_type": "markdown",
   "metadata": {},
   "source": [
    "## 2 quantum and 2 classical registers"
   ]
  },
  {
   "cell_type": "code",
   "execution_count": 4,
   "metadata": {},
   "outputs": [
    {
     "data": {
      "text/html": [
       "<pre style=\"word-wrap: normal;white-space: pre;background: #fff0;line-height: 1.1;font-family: &quot;Courier New&quot;,Courier,monospace\">     ┌───┐┌─┐\n",
       "q_0: ┤ X ├┤M├\n",
       "     └┬─┬┘└╥┘\n",
       "q_1: ─┤M├──╫─\n",
       "      └╥┘  ║ \n",
       "c: 2/══╩═══╩═\n",
       "       1   0 </pre>"
      ],
      "text/plain": [
       "     ┌───┐┌─┐\n",
       "q_0: ┤ X ├┤M├\n",
       "     └┬─┬┘└╥┘\n",
       "q_1: ─┤M├──╫─\n",
       "      └╥┘  ║ \n",
       "c: 2/══╩═══╩═\n",
       "       1   0 "
      ]
     },
     "execution_count": 4,
     "metadata": {},
     "output_type": "execute_result"
    }
   ],
   "source": [
    "circuit = qiskit.QuantumCircuit(2,2)\n",
    "circuit.x(0)\n",
    "circuit.measure([0, 1], [0, 1])\n",
    "circuit.draw()"
   ]
  },
  {
   "cell_type": "code",
   "execution_count": 5,
   "metadata": {},
   "outputs": [
    {
     "name": "stdout",
     "output_type": "stream",
     "text": [
      "ibmq_qasm_simulator has 2 queued and inf qubits\n",
      "ibmq_santiago has 94 queued and 5 qubits\n",
      "ibmq_bogota has 104 queued and 5 qubits\n",
      "ibmq_lima has 30 queued and 5 qubits\n",
      "ibmq_belem has 0 queued and 5 qubits\n",
      "ibmq_quito has 96 queued and 5 qubits\n",
      "simulator_statevector has 1 queued and inf qubits\n",
      "simulator_mps has 1 queued and inf qubits\n",
      "simulator_extended_stabilizer has 1 queued and inf qubits\n",
      "simulator_stabilizer has 1 queued and inf qubits\n",
      "ibmq_manila has 146 queued and 5 qubits\n"
     ]
    },
    {
     "data": {
      "text/plain": [
       "'ibmq_belem'"
      ]
     },
     "execution_count": 5,
     "metadata": {},
     "output_type": "execute_result"
    }
   ],
   "source": [
    "find_backend(verbose=True)"
   ]
  },
  {
   "cell_type": "code",
   "execution_count": 6,
   "metadata": {},
   "outputs": [
    {
     "name": "stdout",
     "output_type": "stream",
     "text": [
      "Job Status: job has successfully run\n"
     ]
    }
   ],
   "source": [
    "#bestbackend=find_backend()\n",
    "#print(\"\\nbest backend seems to be {0:s}\".format(bestbackend))\n",
    "backend = provider.get_backend(DEFAULT_BACKEND)\n",
    "job = qiskit.execute(circuit, backend = backend, shots = 100)\n",
    "qiskit.tools.monitor.job_monitor(job)"
   ]
  },
  {
   "cell_type": "code",
   "execution_count": 7,
   "metadata": {},
   "outputs": [
    {
     "data": {
      "image/png": "[encoded data removed]",
      "text/plain": [
       "<Figure size 504x360 with 1 Axes>"
      ]
     },
     "execution_count": 7,
     "metadata": {},
     "output_type": "execute_result"
    }
   ],
   "source": [
    "result = job.result()\n",
    "counts = result.get_counts(circuit)\n",
    "qiskit.visualization.plot_histogram([counts])"
   ]
  },
  {
   "cell_type": "markdown",
   "metadata": {},
   "source": [
    "## 3 quantum and 2 classical registers"
   ]
  },
  {
   "cell_type": "code",
   "execution_count": 8,
   "metadata": {},
   "outputs": [
    {
     "data": {
      "image/png": "[encoded data removed]",
      "text/plain": [
       "<Figure size 206.997x264.88 with 1 Axes>"
      ]
     },
     "execution_count": 8,
     "metadata": {},
     "output_type": "execute_result"
    }
   ],
   "source": [
    "circuit = qiskit.QuantumCircuit(3, 2)\n",
    "circuit.x(0)\n",
    "circuit.measure([0, 1], [0, 1])\n",
    "circuit.draw(output=\"mpl\",filename=\"3and2.jpg\")"
   ]
  },
  {
   "cell_type": "code",
   "execution_count": 9,
   "metadata": {},
   "outputs": [
    {
     "name": "stdout",
     "output_type": "stream",
     "text": [
      "Job Status: job has successfully run\n"
     ]
    }
   ],
   "source": [
    "#bestbackend=find_backend()\n",
    "#print(\"\\nbest backend seems to be {0:s}\".format(bestbackend))\n",
    "backend = provider.get_backend(DEFAULT_BACKEND)\n",
    "job = qiskit.execute(circuit, backend = backend, shots = 100)\n",
    "qiskit.tools.monitor.job_monitor(job)"
   ]
  },
  {
   "cell_type": "code",
   "execution_count": 10,
   "metadata": {},
   "outputs": [
    {
     "data": {
      "image/png": "[encoded data removed]",
      "text/plain": [
       "<Figure size 504x360 with 1 Axes>"
      ]
     },
     "execution_count": 10,
     "metadata": {},
     "output_type": "execute_result"
    }
   ],
   "source": [
    "result = job.result()\n",
    "counts = result.get_counts(circuit)\n",
    "qiskit.visualization.plot_histogram([counts])"
   ]
  },
  {
   "cell_type": "markdown",
   "metadata": {},
   "source": [
    "## 2 quantum and 3 classical registers"
   ]
  },
  {
   "cell_type": "code",
   "execution_count": 11,
   "metadata": {},
   "outputs": [
    {
     "data": {
      "text/html": [
       "<pre style=\"word-wrap: normal;white-space: pre;background: #fff0;line-height: 1.1;font-family: &quot;Courier New&quot;,Courier,monospace\">     ┌───┐┌─┐\n",
       "q_0: ┤ X ├┤M├\n",
       "     └┬─┬┘└╥┘\n",
       "q_1: ─┤M├──╫─\n",
       "      └╥┘  ║ \n",
       "c: 3/══╩═══╩═\n",
       "       1   0 </pre>"
      ],
      "text/plain": [
       "     ┌───┐┌─┐\n",
       "q_0: ┤ X ├┤M├\n",
       "     └┬─┬┘└╥┘\n",
       "q_1: ─┤M├──╫─\n",
       "      └╥┘  ║ \n",
       "c: 3/══╩═══╩═\n",
       "       1   0 "
      ]
     },
     "execution_count": 11,
     "metadata": {},
     "output_type": "execute_result"
    }
   ],
   "source": [
    "circuit = qiskit.QuantumCircuit(2, 3)\n",
    "circuit.x(0)\n",
    "circuit.measure([0, 1], [0, 1])\n",
    "circuit.draw()"
   ]
  },
  {
   "cell_type": "code",
   "execution_count": 12,
   "metadata": {},
   "outputs": [
    {
     "name": "stdout",
     "output_type": "stream",
     "text": [
      "Job Status: job has successfully run\n"
     ]
    }
   ],
   "source": [
    "#bestbackend=find_backend()\n",
    "#print(\"\\nbest backend seems to be {0:s}\".format(bestbackend))\n",
    "backend = provider.get_backend(DEFAULT_BACKEND)\n",
    "job = qiskit.execute(circuit, backend = backend, shots = 100)\n",
    "qiskit.tools.monitor.job_monitor(job)"
   ]
  },
  {
   "cell_type": "code",
   "execution_count": 13,
   "metadata": {},
   "outputs": [
    {
     "data": {
      "image/png": "[encoded data removed]",
      "text/plain": [
       "<Figure size 504x360 with 1 Axes>"
      ]
     },
     "execution_count": 13,
     "metadata": {},
     "output_type": "execute_result"
    }
   ],
   "source": [
    "result = job.result()\n",
    "counts = result.get_counts(circuit)\n",
    "qiskit.visualization.plot_histogram([counts])"
   ]
  }
 ],
 "metadata": {
  "kernelspec": {
   "display_name": "Python 3 (ipykernel)",
   "language": "python",
   "name": "python3"
  },
  "language_info": {
   "codemirror_mode": {
    "name": "ipython",
    "version": 3
   },
   "file_extension": ".py",
   "mimetype": "text/x-python",
   "name": "python",
   "nbconvert_exporter": "python",
   "pygments_lexer": "ipython3",
   "version": "3.9.7"
  }
 },
 "nbformat": 4,
 "nbformat_minor": 4
}
