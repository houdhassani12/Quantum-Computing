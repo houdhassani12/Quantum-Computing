{
 "cells": [
  {
   "cell_type": "markdown",
   "metadata": {},
   "source": [
    "$$P(q_1=0)=|\\alpha_1|^2$$\n",
    "$$P(q_2=1)=|\\beta_2|^2$$\n",
    "$$P(q_3=0)=|\\alpha_2|^2$$"
   ]
  },
  {
   "cell_type": "markdown",
   "metadata": {},
   "source": [
    "Let's switch the state of q_1; matrix transformation\n",
    "$$\\begin{pmatrix} \n",
    "0 & 1 & 0 & 0 & 0 & 0 \\\\\n",
    "1 & 0 & 0 & 0 & 0 & 0 \\\\\n",
    "0 & 0 & 1 & 0 & 0 & 0 \\\\\n",
    "0 & 0 & 0 & 1 & 0 & 0 \\\\\n",
    "0 & 0 & 0 & 0 & 1 & 0 \\\\\n",
    "0 & 0 & 0 & 0 & 0 & 1 \\end{pmatrix}$$"
   ]
  },
  {
   "cell_type": "markdown",
   "metadata": {},
   "source": [
    "update rule is\n",
    "$$\\begin{pmatrix}  \\beta_1 \\\\ \\alpha_1 \\\\ \\alpha_2 \\\\ \\beta_2 \\\\ \\alpha_3 \\\\ \\beta_3 \\end{pmatrix}=\\underbrace{\\begin{pmatrix} \n",
    "0 & 1 & 0 & 0 & 0 & 0 \\\\\n",
    "1 & 0 & 0 & 0 & 0 & 0 \\\\\n",
    "0 & 0 & 1 & 0 & 0 & 0 \\\\\n",
    "0 & 0 & 0 & 1 & 0 & 0 \\\\\n",
    "0 & 0 & 0 & 0 & 1 & 0 \\\\\n",
    "0 & 0 & 0 & 0 & 0 & 1 \\end{pmatrix}}_{A}\\begin{pmatrix} \\alpha_1 \\\\ \\beta_1 \\\\ \\alpha_2 \\\\ \\beta_2 \\\\ \\alpha_3 \\\\ \\beta_3 \\end{pmatrix}$$"
   ]
  },
  {
   "cell_type": "markdown",
   "metadata": {},
   "source": [
    "$$AA^T=\\textrm{Identity Matrix}$$"
   ]
  },
  {
   "cell_type": "markdown",
   "metadata": {},
   "source": [
    "$$\\begin{pmatrix} \n",
    "1 & 0 & 0 & 0 & 0 & 0 \\\\\n",
    "0 & 1 & 0 & 0 & 0 & 0 \\\\\n",
    "0 & 0 & 1 & 0 & 0 & 0 \\\\\n",
    "0 & 0 & 0 & 1 & 0 & 0 \\\\\n",
    "x & x & x & x & 0 & 0 \\\\\n",
    "x & x & x & x & 0 & 0 \\end{pmatrix}$$"
   ]
  },
  {
   "cell_type": "code",
   "execution_count": 2,
   "metadata": {},
   "outputs": [],
   "source": [
    "#NOT operation (toggles between states) --> Initial State of 1 "
   ]
  },
  {
   "cell_type": "markdown",
   "metadata": {},
   "source": [
    "matrix operation is \n",
    "$$\\begin{pmatrix} \n",
    "0 & 1 \\\\\n",
    "1 & 0 \\\\ \n",
    "\\end{pmatrix}\\begin{pmatrix} \n",
    "0 \\\\\n",
    "1 \\\\\n",
    "\\end{pmatrix} = \\begin{pmatrix}\n",
    "1 \\\\\n",
    "0 \\\\\n",
    "\\end{pmatrix}$$"
   ]
  },
  {
   "cell_type": "code",
   "execution_count": 4,
   "metadata": {},
   "outputs": [],
   "source": [
    "#first matrix is the NOT Operator matrix (all gates can be represented as matrices) \n",
    "#second matrix is the initial state (100% probability of being in state 1)\n",
    "#third matrix is the result"
   ]
  }
 ],
 "metadata": {
  "kernelspec": {
   "display_name": "Python 3",
   "language": "python",
   "name": "python3"
  },
  "language_info": {
   "codemirror_mode": {
    "name": "ipython",
    "version": 3
   },
   "file_extension": ".py",
   "mimetype": "text/x-python",
   "name": "python",
   "nbconvert_exporter": "python",
   "pygments_lexer": "ipython3",
   "version": "3.7.4"
  }
 },
 "nbformat": 4,
 "nbformat_minor": 5
}
