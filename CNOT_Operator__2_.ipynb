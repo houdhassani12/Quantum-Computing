{
 "cells": [
  {
   "cell_type": "code",
   "execution_count": 7,
   "metadata": {},
   "outputs": [],
   "source": [
    "#The CNOT Operator (controlled NOT) operates on 2 qubits\n",
    "#It takes a control and a target qubit and flips the state of the target if the control is set to 1"
   ]
  },
  {
   "cell_type": "markdown",
   "metadata": {},
   "source": [
    "For the qubits (00), (01), (10), and (11) the matrix is\n",
    "$$\\begin{pmatrix}\n",
    "1 & 0 & 0 & 0 \\\\\n",
    "0 & 1 & 0 & 0 \\\\\n",
    "0 & 0 & 0 & 1 \\\\\n",
    "0 & 0 & 1 & 0 \\end {pmatrix}$$"
   ]
  },
  {
   "cell_type": "code",
   "execution_count": 8,
   "metadata": {},
   "outputs": [],
   "source": [
    "#The first column represents the operation done on (00)\n",
    "#Since the control (the first number) is set to 0, the target is not flipped\n",
    "#The 1 in the top left corresponds to being in the state (00) after the operation\n",
    "#The same applies to the rest of the columns corresponding to (01), (10), and (11), respectively"
   ]
  },
  {
   "cell_type": "markdown",
   "metadata": {},
   "source": [
    "For the Toffoli (CCNOT) gate with qubits (000), (001), (010), (011), (100), (101), (110), (111) the matrix is\n",
    "\n",
    "$$\\begin{pmatrix}\n",
    "1 & 0 & 0 & 0 & 0 & 0 & 0 & 0\\\\\n",
    "0 & 1 & 0 & 0 & 0 & 0 & 0 & 0\\\\\n",
    "0 & 0 & 1 & 0 & 0 & 0 & 0 & 0\\\\\n",
    "0 & 0 & 0 & 1 & 0 & 0 & 0 & 0\\\\\n",
    "0 & 0 & 0 & 0 & 1 & 0 & 0 & 0\\\\\n",
    "0 & 0 & 0 & 0 & 0 & 1 & 0 & 0\\\\\n",
    "0 & 0 & 0 & 0 & 0 & 0 & 0 & 1\\\\\n",
    "0 & 0 & 0 & 0 & 0 & 0 & 1 & 0\\end {pmatrix}$$"
   ]
  },
  {
   "cell_type": "code",
   "execution_count": 9,
   "metadata": {},
   "outputs": [],
   "source": [
    "#The Toffoli gate flips the target qubit if both controls are set to 1\n",
    "#Only the 7th and 8th column will be flipped (110) and (111)\n",
    "#(110) is flipped to (111) representing the 1 in the final row of column 7\n",
    "#(111) is flipped to (110) representing the 1 in the second last row of column 8"
   ]
  }
 ],
 "metadata": {
  "kernelspec": {
   "display_name": "Python 3",
   "language": "python",
   "name": "python3"
  },
  "language_info": {
   "codemirror_mode": {
    "name": "ipython",
    "version": 3
   },
   "file_extension": ".py",
   "mimetype": "text/x-python",
   "name": "python",
   "nbconvert_exporter": "python",
   "pygments_lexer": "ipython3",
   "version": "3.7.4"
  }
 },
 "nbformat": 4,
 "nbformat_minor": 2
}
