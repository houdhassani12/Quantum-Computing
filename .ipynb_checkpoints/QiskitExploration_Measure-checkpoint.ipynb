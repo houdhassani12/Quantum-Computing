{
 "cells": [
  {
   "cell_type": "markdown",
   "metadata": {},
   "source": [
    "<img src=\"https://news.illinois.edu/files/6367/543635/116641.jpg\" alt=\"University of Illinois\" width=\"250\"/>\n",
    "\n",
    "# Qiskit Exploration: Measure\n",
    "By Richard Sowers\n",
    "* <r-sowers@illinois.edu>\n",
    "* <https://publish.illinois.edu/r-sowers/>\n",
    "\n",
    "Copyright 2022\n",
    "University of Illinois Board of Trustees. All Rights Reserved."
   ]
  },
  {
   "cell_type": "markdown",
   "metadata": {},
   "source": [
    "# imports"
   ]
  },
  {
   "cell_type": "code",
   "execution_count": 1,
   "metadata": {},
   "outputs": [],
   "source": [
    "import qiskit\n",
    "import numpy\n",
    "import pandas"
   ]
  },
  {
   "cell_type": "markdown",
   "metadata": {},
   "source": [
    "## conveniences"
   ]
  },
  {
   "cell_type": "code",
   "execution_count": 2,
   "metadata": {},
   "outputs": [],
   "source": [
    "def find_backend(verbose=False):\n",
    "    backends={}\n",
    "    for backend in provider.backends():\n",
    "        try:\n",
    "            qubit_count = len(backend.properties().qubits)\n",
    "        except:\n",
    "            qubit_count = numpy.inf\n",
    "\n",
    "        if qubit_count>=2:\n",
    "            backends[backend.name()]=backend.status().pending_jobs\n",
    "            if verbose:\n",
    "                print(f\"{backend.name()} has {backend.status().pending_jobs} queued and {qubit_count} qubits\")\n",
    "    backends_series=pandas.Series(backends)\n",
    "    return backends_series.idxmin()\n",
    "\n",
    "DEFAULT_BACKEND=\"ibmq_qasm_simulator\""
   ]
  },
  {
   "cell_type": "markdown",
   "metadata": {},
   "source": [
    "# main"
   ]
  },
  {
   "cell_type": "markdown",
   "metadata": {},
   "source": [
    "Measuring can be rearranged.  Let's use 3 qubits, to help us disambiguate qubits 0, 1, and 2 from states 0 and 1.  We will always be flipping qubit 0."
   ]
  },
  {
   "cell_type": "code",
   "execution_count": 3,
   "metadata": {},
   "outputs": [
    {
     "name": "stderr",
     "output_type": "stream",
     "text": [
      "configrc.store_credentials:WARNING:2022-05-20 15:39:13,979: Credentials already present. Set overwrite=True to overwrite.\n"
     ]
    }
   ],
   "source": [
    "tokenfile=\"./token.txt\"\n",
    "qiskit.IBMQ.save_account(open(tokenfile, \"r\").read())\n",
    "qiskit.IBMQ.load_account()\n",
    "provider = qiskit.IBMQ.get_provider(\"ibm-q\")"
   ]
  },
  {
   "cell_type": "markdown",
   "metadata": {},
   "source": [
    "## map qubits 0, 1, and 2 to classical bits 0, 1, and 2"
   ]
  },
  {
   "cell_type": "code",
   "execution_count": 4,
   "metadata": {},
   "outputs": [
    {
     "data": {
      "text/html": [
       "<pre style=\"word-wrap: normal;white-space: pre;background: #fff0;line-height: 1.1;font-family: &quot;Courier New&quot;,Courier,monospace\">     ┌───┐   ┌─┐\n",
       "q_0: ┤ X ├───┤M├\n",
       "     └┬─┬┘   └╥┘\n",
       "q_1: ─┤M├─────╫─\n",
       "      └╥┘ ┌─┐ ║ \n",
       "q_2: ──╫──┤M├─╫─\n",
       "       ║  └╥┘ ║ \n",
       "c: 3/══╩═══╩══╩═\n",
       "       1   2  0 </pre>"
      ],
      "text/plain": [
       "     ┌───┐   ┌─┐\n",
       "q_0: ┤ X ├───┤M├\n",
       "     └┬─┬┘   └╥┘\n",
       "q_1: ─┤M├─────╫─\n",
       "      └╥┘ ┌─┐ ║ \n",
       "q_2: ──╫──┤M├─╫─\n",
       "       ║  └╥┘ ║ \n",
       "c: 3/══╩═══╩══╩═\n",
       "       1   2  0 "
      ]
     },
     "execution_count": 4,
     "metadata": {},
     "output_type": "execute_result"
    }
   ],
   "source": [
    "circuit = qiskit.QuantumCircuit(3,3)\n",
    "circuit.x(0)\n",
    "circuit.measure([0, 1, 2], [0, 1,2])\n",
    "circuit.draw()"
   ]
  },
  {
   "cell_type": "code",
   "execution_count": 5,
   "metadata": {},
   "outputs": [
    {
     "name": "stdout",
     "output_type": "stream",
     "text": [
      "Job Status: job has successfully run\n"
     ]
    }
   ],
   "source": [
    "#bestbackend=find_backend()\n",
    "#print(\"\\nbest backend seems to be {0:s}\".format(bestbackend))\n",
    "backend = provider.get_backend(DEFAULT_BACKEND)\n",
    "job = qiskit.execute(circuit, backend = backend, shots = 100)\n",
    "qiskit.tools.monitor.job_monitor(job)"
   ]
  },
  {
   "cell_type": "code",
   "execution_count": 6,
   "metadata": {},
   "outputs": [
    {
     "data": {
      "image/png": "[encoded data removed]",
      "text/plain": [
       "<Figure size 504x360 with 1 Axes>"
      ]
     },
     "execution_count": 6,
     "metadata": {},
     "output_type": "execute_result"
    }
   ],
   "source": [
    "result = job.result()\n",
    "counts = result.get_counts(circuit)\n",
    "qiskit.visualization.plot_histogram([counts])"
   ]
  },
  {
   "cell_type": "markdown",
   "metadata": {},
   "source": [
    "## map qubits 0, 2 and 1 to classical bits 0, 2, and 1 (this should be the same as the first case)"
   ]
  },
  {
   "cell_type": "code",
   "execution_count": 7,
   "metadata": {},
   "outputs": [
    {
     "data": {
      "text/html": [
       "<pre style=\"word-wrap: normal;white-space: pre;background: #fff0;line-height: 1.1;font-family: &quot;Courier New&quot;,Courier,monospace\">     ┌───┐   ┌─┐\n",
       "q_0: ┤ X ├───┤M├\n",
       "     └───┘┌─┐└╥┘\n",
       "q_1: ─────┤M├─╫─\n",
       "      ┌─┐ └╥┘ ║ \n",
       "q_2: ─┤M├──╫──╫─\n",
       "      └╥┘  ║  ║ \n",
       "c: 3/══╩═══╩══╩═\n",
       "       2   1  0 </pre>"
      ],
      "text/plain": [
       "     ┌───┐   ┌─┐\n",
       "q_0: ┤ X ├───┤M├\n",
       "     └───┘┌─┐└╥┘\n",
       "q_1: ─────┤M├─╫─\n",
       "      ┌─┐ └╥┘ ║ \n",
       "q_2: ─┤M├──╫──╫─\n",
       "      └╥┘  ║  ║ \n",
       "c: 3/══╩═══╩══╩═\n",
       "       2   1  0 "
      ]
     },
     "execution_count": 7,
     "metadata": {},
     "output_type": "execute_result"
    }
   ],
   "source": [
    "circuit = qiskit.QuantumCircuit(3,3)\n",
    "circuit.x(0)\n",
    "circuit.measure([0,2,1], [0,2,1])\n",
    "circuit.draw()"
   ]
  },
  {
   "cell_type": "code",
   "execution_count": 8,
   "metadata": {},
   "outputs": [
    {
     "name": "stdout",
     "output_type": "stream",
     "text": [
      "Job Status: job has successfully run\n"
     ]
    }
   ],
   "source": [
    "#bestbackend=find_backend()\n",
    "#print(\"\\nbest backend seems to be {0:s}\".format(bestbackend))\n",
    "backend = provider.get_backend(DEFAULT_BACKEND)\n",
    "job = qiskit.execute(circuit, backend = backend, shots = 100)\n",
    "qiskit.tools.monitor.job_monitor(job)"
   ]
  },
  {
   "cell_type": "code",
   "execution_count": 9,
   "metadata": {},
   "outputs": [
    {
     "data": {
      "image/png": "[encoded data removed]",
      "text/plain": [
       "<Figure size 504x360 with 1 Axes>"
      ]
     },
     "execution_count": 9,
     "metadata": {},
     "output_type": "execute_result"
    }
   ],
   "source": [
    "result = job.result()\n",
    "counts = result.get_counts(circuit)\n",
    "qiskit.visualization.plot_histogram([counts])"
   ]
  },
  {
   "cell_type": "markdown",
   "metadata": {},
   "source": [
    "## map qubits 0, 1, 2 to classical bits 2, 0, 1 (the flipped bit should be in the 2 position)"
   ]
  },
  {
   "cell_type": "code",
   "execution_count": 10,
   "metadata": {},
   "outputs": [
    {
     "data": {
      "text/html": [
       "<pre style=\"word-wrap: normal;white-space: pre;background: #fff0;line-height: 1.1;font-family: &quot;Courier New&quot;,Courier,monospace\">     ┌───┐   ┌─┐\n",
       "q_0: ┤ X ├───┤M├\n",
       "     └┬─┬┘   └╥┘\n",
       "q_1: ─┤M├─────╫─\n",
       "      └╥┘ ┌─┐ ║ \n",
       "q_2: ──╫──┤M├─╫─\n",
       "       ║  └╥┘ ║ \n",
       "c: 3/══╩═══╩══╩═\n",
       "       1   0  2 </pre>"
      ],
      "text/plain": [
       "     ┌───┐   ┌─┐\n",
       "q_0: ┤ X ├───┤M├\n",
       "     └┬─┬┘   └╥┘\n",
       "q_1: ─┤M├─────╫─\n",
       "      └╥┘ ┌─┐ ║ \n",
       "q_2: ──╫──┤M├─╫─\n",
       "       ║  └╥┘ ║ \n",
       "c: 3/══╩═══╩══╩═\n",
       "       1   0  2 "
      ]
     },
     "execution_count": 10,
     "metadata": {},
     "output_type": "execute_result"
    }
   ],
   "source": [
    "circuit = qiskit.QuantumCircuit(3, 3)\n",
    "circuit.x(0)\n",
    "circuit.measure([0, 1, 2], [2, 1, 0])\n",
    "circuit.draw()"
   ]
  },
  {
   "cell_type": "code",
   "execution_count": 11,
   "metadata": {},
   "outputs": [
    {
     "name": "stdout",
     "output_type": "stream",
     "text": [
      "Job Status: job has successfully run\n"
     ]
    }
   ],
   "source": [
    "#bestbackend=find_backend()\n",
    "#print(\"\\nbest backend seems to be {0:s}\".format(bestbackend))\n",
    "backend = provider.get_backend(DEFAULT_BACKEND)\n",
    "job = qiskit.execute(circuit, backend = backend, shots = 100)\n",
    "qiskit.tools.monitor.job_monitor(job)"
   ]
  },
  {
   "cell_type": "code",
   "execution_count": 12,
   "metadata": {},
   "outputs": [
    {
     "data": {
      "image/png": "[encoded data removed]",
      "text/plain": [
       "<Figure size 504x360 with 1 Axes>"
      ]
     },
     "execution_count": 12,
     "metadata": {},
     "output_type": "execute_result"
    }
   ],
   "source": [
    "result = job.result()\n",
    "counts = result.get_counts(circuit)\n",
    "qiskit.visualization.plot_histogram([counts])"
   ]
  },
  {
   "cell_type": "markdown",
   "metadata": {},
   "source": [
    "## map qubits 0, 1, 0 to classical bits 0, 1, 2  (the 0-th bit should repeat in the last position)"
   ]
  },
  {
   "cell_type": "code",
   "execution_count": 13,
   "metadata": {},
   "outputs": [
    {
     "data": {
      "text/html": [
       "<pre style=\"word-wrap: normal;white-space: pre;background: #fff0;line-height: 1.1;font-family: &quot;Courier New&quot;,Courier,monospace\">     ┌───┐┌─┐┌─┐\n",
       "q_0: ┤ X ├┤M├┤M├\n",
       "     └┬─┬┘└╥┘└╥┘\n",
       "q_1: ─┤M├──╫──╫─\n",
       "      └╥┘  ║  ║ \n",
       "q_2: ──╫───╫──╫─\n",
       "       ║   ║  ║ \n",
       "c: 3/══╩═══╩══╩═\n",
       "       1   0  2 </pre>"
      ],
      "text/plain": [
       "     ┌───┐┌─┐┌─┐\n",
       "q_0: ┤ X ├┤M├┤M├\n",
       "     └┬─┬┘└╥┘└╥┘\n",
       "q_1: ─┤M├──╫──╫─\n",
       "      └╥┘  ║  ║ \n",
       "q_2: ──╫───╫──╫─\n",
       "       ║   ║  ║ \n",
       "c: 3/══╩═══╩══╩═\n",
       "       1   0  2 "
      ]
     },
     "execution_count": 13,
     "metadata": {},
     "output_type": "execute_result"
    }
   ],
   "source": [
    "circuit = qiskit.QuantumCircuit(3, 3)\n",
    "circuit.x(0)\n",
    "circuit.measure([0, 1, 0], [0,1,2])\n",
    "circuit.draw()"
   ]
  },
  {
   "cell_type": "code",
   "execution_count": 14,
   "metadata": {},
   "outputs": [
    {
     "name": "stdout",
     "output_type": "stream",
     "text": [
      "Job Status: job has successfully run\n"
     ]
    }
   ],
   "source": [
    "#bestbackend=find_backend()\n",
    "#print(\"\\nbest backend seems to be {0:s}\".format(bestbackend))\n",
    "backend = provider.get_backend(DEFAULT_BACKEND)\n",
    "job = qiskit.execute(circuit, backend = backend, shots = 100)\n",
    "qiskit.tools.monitor.job_monitor(job)"
   ]
  },
  {
   "cell_type": "code",
   "execution_count": 15,
   "metadata": {},
   "outputs": [
    {
     "data": {
      "image/png": "[encoded data removed]",
      "text/plain": [
       "<Figure size 504x360 with 1 Axes>"
      ]
     },
     "execution_count": 15,
     "metadata": {},
     "output_type": "execute_result"
    }
   ],
   "source": [
    "result = job.result()\n",
    "counts = result.get_counts(circuit)\n",
    "qiskit.visualization.plot_histogram([counts])"
   ]
  }
 ],
 "metadata": {
  "kernelspec": {
   "display_name": "Python 3 (ipykernel)",
   "language": "python",
   "name": "python3"
  },
  "language_info": {
   "codemirror_mode": {
    "name": "ipython",
    "version": 3
   },
   "file_extension": ".py",
   "mimetype": "text/x-python",
   "name": "python",
   "nbconvert_exporter": "python",
   "pygments_lexer": "ipython3",
   "version": "3.9.7"
  }
 },
 "nbformat": 4,
 "nbformat_minor": 4
}
