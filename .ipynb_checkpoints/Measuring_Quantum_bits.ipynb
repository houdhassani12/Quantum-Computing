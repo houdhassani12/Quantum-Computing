{
 "cells": [
  {
   "cell_type": "markdown",
   "metadata": {},
   "source": [
    "<img src=\"https://news.illinois.edu/files/6367/543635/116641.jpg\" alt=\"University of Illinois\" width=\"250px\"/>\n",
    "\n",
    "# Measuring Quantum bits \n",
    "By Houd Hassani\n",
    "* <houdh2@illinois.edu>\n",
    "* <https://www.linkedin.com/in/houd-hassani-0005101aa/>\n",
    "\n",
    "\n",
    "By Richard Sowers\n",
    "* <r-sowers@illinois.edu>\n",
    "* <https://publish.illinois.edu/r-sowers/>\n",
    "\n",
    "Copyright 2022 University of Illinois Board of Trustees. All Rights Reserved."
   ]
  },
  {
   "cell_type": "markdown",
   "metadata": {},
   "source": [
    "In order to observe what is happening to a qubit we must first measure the state that it is in. This is due to quantum superposition (the ability to exist in several quantum states at the same time). Therefor, we must collapse the qubits into classical bits to observe the state that it is in. This can be done in several ways using Qiskit:"
   ]
  },
  {
   "cell_type": "markdown",
   "metadata": {},
   "source": [
    "Firstly, this can be done by calling measure_all() on your circuit. Let's create a circuit with two qubits and constructs a NOT operation on the first qubit. Then a CNOT operation, with the first bit as the control and the second bit as the target. The output would be in the states (1,1). This is what a sample circuit would look like and how to measure the circuit:"
   ]
  },
  {
   "cell_type": "code",
   "execution_count": 9,
   "metadata": {},
   "outputs": [
    {
     "data": {
      "text/html": [
       "<pre style=\"word-wrap: normal;white-space: pre;background: #fff0;line-height: 1.1;font-family: &quot;Courier New&quot;,Courier,monospace\">        ┌───┐      ░ ┌─┐   \n",
       "   q_0: ┤ X ├──■───░─┤M├───\n",
       "        └───┘┌─┴─┐ ░ └╥┘┌─┐\n",
       "   q_1: ─────┤ X ├─░──╫─┤M├\n",
       "             └───┘ ░  ║ └╥┘\n",
       "   c: 2/══════════════╬══╬═\n",
       "                      ║  ║ \n",
       "meas: 2/══════════════╩══╩═\n",
       "                      0  1 </pre>"
      ],
      "text/plain": [
       "        ┌───┐      ░ ┌─┐   \n",
       "   q_0: ┤ X ├──■───░─┤M├───\n",
       "        └───┘┌─┴─┐ ░ └╥┘┌─┐\n",
       "   q_1: ─────┤ X ├─░──╫─┤M├\n",
       "             └───┘ ░  ║ └╥┘\n",
       "   c: 2/══════════════╬══╬═\n",
       "                      ║  ║ \n",
       "meas: 2/══════════════╩══╩═\n",
       "                      0  1 "
      ]
     },
     "execution_count": 9,
     "metadata": {},
     "output_type": "execute_result"
    }
   ],
   "source": [
    "import qiskit as q\n",
    "%matplotlib inline\n",
    "circuit = q.QuantumCircuit(2, 2) \n",
    "# creates circuit with 2 qubits and 2 classical bits\n",
    "# initialized to 0, 0\n",
    "\n",
    "circuit.x(0)\n",
    "# flipped first qubit, now it's 1, 0\n",
    "\n",
    "circuit.cx(0, 1)\n",
    "# flipped to 1, 1\n",
    "\n",
    "circuit.measure_all()\n",
    "#collapses the 2 qubits specific states into classical bits so that we can observe them in specific states\n",
    "\n",
    "circuit.draw()\n",
    "#visualizes the circuit"
   ]
  },
  {
   "cell_type": "markdown",
   "metadata": {},
   "source": [
    "This same process can also be done by creating a quantum register (a system of multiple qubits) and a classical register (a system of multiple classcal bits). By declaring and initializing the registers, we can then call measure() on the registers, with the first parameter as the quantum register and the second parameter as the classical register. This is what that process would look like with the same circuit:"
   ]
  },
  {
   "cell_type": "code",
   "execution_count": 10,
   "metadata": {},
   "outputs": [
    {
     "data": {
      "text/html": [
       "<pre style=\"word-wrap: normal;white-space: pre;background: #fff0;line-height: 1.1;font-family: &quot;Courier New&quot;,Courier,monospace\">      ┌───┐     ┌─┐   \n",
       "q1_0: ┤ X ├──■──┤M├───\n",
       "      └───┘┌─┴─┐└╥┘┌─┐\n",
       "q1_1: ─────┤ X ├─╫─┤M├\n",
       "           └───┘ ║ └╥┘\n",
       "c1: 2/═══════════╩══╩═\n",
       "                 0  1 </pre>"
      ],
      "text/plain": [
       "      ┌───┐     ┌─┐   \n",
       "q1_0: ┤ X ├──■──┤M├───\n",
       "      └───┘┌─┴─┐└╥┘┌─┐\n",
       "q1_1: ─────┤ X ├─╫─┤M├\n",
       "           └───┘ ║ └╥┘\n",
       "c1: 2/═══════════╩══╩═\n",
       "                 0  1 "
      ]
     },
     "execution_count": 10,
     "metadata": {},
     "output_type": "execute_result"
    }
   ],
   "source": [
    "import qiskit as q\n",
    "%matplotlib inline\n",
    "qr = q.QuantumRegister(2)\n",
    "#creates a quantum register with 2 qubits\n",
    "\n",
    "cr = q.ClassicalRegister(2)\n",
    "#creates a classical register with 2 bits\n",
    "\n",
    "circuit = q.QuantumCircuit(qr, cr) \n",
    "# creates circuit with an initialized quantum register and classical register\n",
    "# initialized to 0, 0\n",
    "\n",
    "circuit.x(0)\n",
    "# flipped first qubit, now it's 1, 0\n",
    "\n",
    "circuit.cx(0, 1)\n",
    "# flipped to 1, 1\n",
    "\n",
    "circuit.measure(qr, cr)\n",
    "#collapses the qubits in the quantum register to observe them as classical bits in the classical register\n",
    "\n",
    "circuit.draw()\n",
    "#visualizes the circuit"
   ]
  },
  {
   "cell_type": "markdown",
   "metadata": {},
   "source": [
    "Lastly, this circuit can be measured by simply calling measure() on the circuit, with the first parameter as the quantum bits to measure, and the second parameter as the classical bits to place that measurement in. This is what that process would look like with the same circuit:"
   ]
  },
  {
   "cell_type": "code",
   "execution_count": 11,
   "metadata": {},
   "outputs": [
    {
     "data": {
      "text/html": [
       "<pre style=\"word-wrap: normal;white-space: pre;background: #fff0;line-height: 1.1;font-family: &quot;Courier New&quot;,Courier,monospace\">     ┌───┐     ┌─┐   \n",
       "q_0: ┤ X ├──■──┤M├───\n",
       "     └───┘┌─┴─┐└╥┘┌─┐\n",
       "q_1: ─────┤ X ├─╫─┤M├\n",
       "          └───┘ ║ └╥┘\n",
       "c: 2/═══════════╩══╩═\n",
       "                0  1 </pre>"
      ],
      "text/plain": [
       "     ┌───┐     ┌─┐   \n",
       "q_0: ┤ X ├──■──┤M├───\n",
       "     └───┘┌─┴─┐└╥┘┌─┐\n",
       "q_1: ─────┤ X ├─╫─┤M├\n",
       "          └───┘ ║ └╥┘\n",
       "c: 2/═══════════╩══╩═\n",
       "                0  1 "
      ]
     },
     "execution_count": 11,
     "metadata": {},
     "output_type": "execute_result"
    }
   ],
   "source": [
    "import qiskit as q\n",
    "%matplotlib inline\n",
    "circuit = q.QuantumCircuit(2, 2) \n",
    "# creates circuit with 2 qubits and 2 classical bits\n",
    "# initialized to 0, 0\n",
    "\n",
    "circuit.x(0)\n",
    "# flipped first qubit, now it's 1, 0\n",
    "\n",
    "circuit.cx(0, 1)\n",
    "# flipped to 1, 1\n",
    "\n",
    "circuit.measure([0, 1], [0, 1])\n",
    "#collapses the declared qubits into classical bits to observe \n",
    "\n",
    "circuit.draw()\n",
    "#visualizes the circuit"
   ]
  },
  {
   "cell_type": "markdown",
   "metadata": {},
   "source": [
    "## Note for qiskit purposes:"
   ]
  },
  {
   "cell_type": "markdown",
   "metadata": {},
   "source": [
    "1) In the first example, not declaring the 2 classical bits in the circuit initialization yields the same outcome"
   ]
  },
  {
   "cell_type": "markdown",
   "metadata": {},
   "source": [
    "2) In the third example, changing the measure() parameter values and position can change the outcome of the circuit "
   ]
  }
 ],
 "metadata": {
  "kernelspec": {
   "display_name": "Python 3",
   "language": "python",
   "name": "python3"
  },
  "language_info": {
   "codemirror_mode": {
    "name": "ipython",
    "version": 3
   },
   "file_extension": ".py",
   "mimetype": "text/x-python",
   "name": "python",
   "nbconvert_exporter": "python",
   "pygments_lexer": "ipython3",
   "version": "3.7.4"
  }
 },
 "nbformat": 4,
 "nbformat_minor": 4
}
