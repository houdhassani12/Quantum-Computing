{
 "cells": [
  {
   "cell_type": "markdown",
   "metadata": {},
   "source": [
    "<img src=\"https://news.illinois.edu/files/6367/543635/116641.jpg\" alt=\"University of Illinois\" width=\"250\"/>\n",
    "\n",
    "# Matrices\n",
    "By Richard Sowers\n",
    "* <r-sowers@illinois.edu>\n",
    "* <https://publish.illinois.edu/r-sowers/>\n",
    "\n",
    "Copyright 2022\n",
    "University of Illinois Board of Trustees. All Rights Reserved."
   ]
  },
  {
   "cell_type": "markdown",
   "metadata": {},
   "source": [
    "Let's write out the matrix represenation of a CNOT with the 0th qubit as the control and the first qubit as the target.  This seems to be a standard step in learning quantum computing."
   ]
  },
  {
   "cell_type": "markdown",
   "metadata": {},
   "source": [
    "Let's start with some notation corresponding the states of a single qubits.  Let's define the *computational* basis\n",
    "$$ |0\\rangle = \\begin{pmatrix} 1 \\\\ 0 \\end{pmatrix} \\qquad \\text{and}\\qquad |1\\rangle = \\begin{pmatrix} 0 \\\\ 1 \\end{pmatrix}$$\n",
    "of a qubit."
   ]
  },
  {
   "cell_type": "markdown",
   "metadata": {},
   "source": [
    "Let's now generalize to 2 qubits.  Using the *Kronecker product* $\\otimes$ (https://en.wikipedia.org/wiki/Kronecker_product).  Let's *define*\n",
    "$$ |00\\rangle = |0\\rangle \\otimes |0\\rangle = \\begin{pmatrix} 1 \\\\ 0 \\end{pmatrix} \\otimes \\begin{pmatrix} 1 \\\\ 0 \\end{pmatrix} = \\begin{pmatrix} 1 \\\\ 0 \\\\ 0 \\\\ 0 \\end{pmatrix}$$\n",
    "$$ |01\\rangle = |0\\rangle \\otimes |1\\rangle = \\begin{pmatrix} 1 \\\\ 0 \\end{pmatrix} \\otimes \\begin{pmatrix} 0 \\\\ 1 \\end{pmatrix} = \\begin{pmatrix} 0 \\\\ 1 \\\\ 0 \\\\ 0 \\end{pmatrix}$$\n",
    "$$ |10\\rangle = |1\\rangle \\otimes |0\\rangle = \\begin{pmatrix} 0 \\\\1 \\end{pmatrix} \\otimes \\begin{pmatrix} 1 \\\\ 0 \\end{pmatrix} = \\begin{pmatrix} 0 \\\\ 0 \\\\ 1 \\\\ 0 \\end{pmatrix}$$\n",
    "$$ |11\\rangle = |1\\rangle \\otimes |1\\rangle = \\begin{pmatrix} 0 \\\\ 1 \\end{pmatrix} \\otimes \\begin{pmatrix} 0 \\\\ 1 \\end{pmatrix} = \\begin{pmatrix} 0 \\\\ 0 \\\\ 0 \\\\ 1 \\end{pmatrix}$$\n",
    "There is a nice pattern here; converting $|q_0q_1\\rangle$ to a binary number $n=q_1\\cdot 2^1+q_0\\cdot 2_0$, the Kronecker product is the standard basis vector with a 1 in the $n$-th position"
   ]
  },
  {
   "cell_type": "markdown",
   "metadata": {},
   "source": [
    "The CNOT (with 0th qubit as control and first qubit as target) maps\n",
    "* $|00\\rangle$ to $|00\\rangle$\n",
    "* $|01\\rangle$ to $|01\\rangle$\n",
    "* $|10\\rangle$ to $|11\\rangle$\n",
    "* $|11\\rangle$ to $|10\\rangle$\n",
    "Converting this to a linear operation, the vector\n",
    "$$ a|00\\rangle+b|01\\rangle+c|10\\rangle+d|11\\rangle$$\n",
    "gets mapped into\n",
    "$$ a|00\\rangle+b|01\\rangle+c|11\\rangle+d|10\\rangle$$\n",
    "i.e.,\n",
    "$$ a\\begin{pmatrix} 1 \\\\ 0 \\\\ 0 \\\\ 0\\end{pmatrix}+\n",
    "b\\begin{pmatrix} 0 \\\\ 1 \\\\ 0 \\\\ 0\\end{pmatrix}+\n",
    "c\\begin{pmatrix} 0 \\\\ 0 \\\\ 1 \\\\ 0\\end{pmatrix}+\n",
    "d\\begin{pmatrix} 0 \\\\ 0 \\\\ 0 \\\\ 1\\end{pmatrix}$$\n",
    "gets mapped into\n",
    "$$ a\\begin{pmatrix} 1 \\\\ 0 \\\\ 0 \\\\ 0\\end{pmatrix}+\n",
    "b\\begin{pmatrix} 0 \\\\ 1 \\\\ 0 \\\\ 0\\end{pmatrix}+\n",
    "c\\begin{pmatrix} 0 \\\\ 0 \\\\ 0 \\\\ 1\\end{pmatrix}+\n",
    "d\\begin{pmatrix} 0 \\\\ 0 \\\\ 1 \\\\ 0\\end{pmatrix}$$\n",
    "and this has matrix representation\n",
    "$$ P=\\begin{pmatrix} \n",
    "1 & 0 & 0 & 0 \\\\\n",
    "0 & 1 & 0 & 0 \\\\\n",
    "0 & 0 & 0 & 1 \\\\\n",
    "0 & 0 & 1 & 0 \\end{pmatrix}$$\n",
    "and $P$ is a permutation matrix, which is also unitary.   "
   ]
  },
  {
   "cell_type": "markdown",
   "metadata": {},
   "source": [
    "Let's now think about things in the *Hadamard* basis; see https://en.wikipedia.org/wiki/Controlled_NOT_gate.\n",
    "Here the Hadamard basis for a single qubit is\n",
    "$$|+\\rangle = \\frac{1}{\\sqrt{2}}\\begin{pmatrix} 1 \\\\ 1 \\end{pmatrix} \\qquad \\text{and}\\qquad |-\\rangle =\\frac{1}{\\sqrt{2}}\\begin{pmatrix} 1 \\\\ -1 \\end{pmatrix}$$\n",
    "For 2 qubits, the basis is \n",
    "$$ |++\\rangle =\\frac{1}{\\sqrt{2}}  \\begin{pmatrix} 1 \\\\ 1 \\end{pmatrix} \\otimes \\frac{1}{\\sqrt{2}}  \\begin{pmatrix} 1 \\\\ 1 \\end{pmatrix} = \\frac{1}{2}\\begin{pmatrix} 1 \\\\ 1 \\\\ 1 \\\\ 1 \\end{pmatrix} $$\n",
    "$$ |+-\\rangle =\\frac{1}{\\sqrt{2}}  \\begin{pmatrix} 1 \\\\ 1 \\end{pmatrix} \\otimes \\frac{1}{\\sqrt{2}}  \\begin{pmatrix} 1 \\\\ -1 \\end{pmatrix} = \\frac{1}{2}\\begin{pmatrix} 1 \\\\ -1 \\\\ 1 \\\\ -1 \\end{pmatrix} $$\n",
    "$$ |-+\\rangle =\\frac{1}{\\sqrt{2}}  \\begin{pmatrix} 1 \\\\ -1 \\end{pmatrix} \\otimes \\frac{1}{\\sqrt{2}}  \\begin{pmatrix} 1 \\\\ 1 \\end{pmatrix} = \\frac{1}{2}\\begin{pmatrix} 1 \\\\ 1 \\\\ -1 \\\\ -1 \\end{pmatrix} $$\n",
    "$$ |--\\rangle =\\frac{1}{\\sqrt{2}}  \\begin{pmatrix} 1 \\\\ -1 \\end{pmatrix} \\otimes \\frac{1}{\\sqrt{2}}  \\begin{pmatrix} 1 \\\\ -1 \\end{pmatrix} = \\frac{1}{2}\\begin{pmatrix} 1 \\\\ -1 \\\\ -1 \\\\ 1 \\end{pmatrix} $$"
   ]
  },
  {
   "cell_type": "markdown",
   "metadata": {},
   "source": [
    "Writing \n",
    "$$H=\\frac{1}{\\sqrt{2}}\\begin{pmatrix} 1 & 1 \\\\ 1 & -1 \\end{pmatrix}$$\n",
    "we have\n",
    "$$ |+\\rangle = H |0\\rangle = \\begin{pmatrix} H_{11} \\\\ H_{12}\\end{pmatrix} = H_{11}|0\\rangle + H_{12}|1\\rangle$$\n",
    "$$|-\\rangle = H |1\\rangle = \\begin{pmatrix} H_{12} \\\\ H_{22}\\end{pmatrix} = H_{12}|0\\rangle + H_{22}|1\\rangle$$\n",
    "and thus\n",
    "$$ H\\left\\{ a |0\\rangle + b|1\\rangle\\right\\} = a |+\\rangle + b |-\\rangle$$\n",
    "We also note that $H$ is *Hermitian*; $H^{-1}=H^T$.  Thus\n",
    "$$ a |0\\rangle + b|1\\rangle = H^{-1}\\left\\{ a|+\\rangle + b|-\\rangle\\right\\} = H^T\\left\\{ a|+\\rangle + b|-\\rangle\\right\\}$$"
   ]
  },
  {
   "cell_type": "markdown",
   "metadata": {},
   "source": [
    "Let's now work through some mathematics of Kronecker products.  \n",
    "Let's write\n",
    "$$ H=\\begin{pmatrix} H_{11} & H_{12} \\\\ H_{21} & H_{22} \\end{pmatrix}$$\n",
    "Let's then write\n",
    "$$ |++\\rangle = |+\\rangle \\otimes |+\\rangle = \\left(H |0\\rangle \\right) \\otimes \\left(H |0\\rangle\\right)\n",
    "= \\left(H \\begin{pmatrix} 1 \\\\ 0 \\end{pmatrix} \\right)\\otimes \\left(H \\begin{pmatrix} 1 \\\\ 0 \\end{pmatrix} \\right)= \\begin{pmatrix} H_{11} \\\\ H_{21} \\end{pmatrix} \\otimes \\begin{pmatrix} H_{11} \\\\ H_{21} \\end{pmatrix}\n",
    "= \\begin{pmatrix} H_{11}H_{11} \\\\ H_{11}H_{21} \\\\ H_{21}H_{11} \\\\ H_{21}H_{21} \\end{pmatrix}\n",
    "$$\n",
    "On the other hand, \n",
    "$$ H\\otimes H = \\begin{pmatrix} \n",
    "H_{11}H_{11} & H_{11}H_{12} & H_{12}H_{11} & H_{12}H_{12} \\\\\n",
    "H_{11}H_{21} & H_{11}H_{22} & H_{12}H_{21} & H_{12}H_{22} \\\\\n",
    "H_{21}H_{11} & H_{21}H_{12} & H_{22}H_{11} & H_{22}H_{12} \\\\\n",
    "H_{21}H_{21} & H_{21}H_{22} & H_{22}H_{21} & H_{22}H_{22} \\end{pmatrix}\n",
    "$$\n",
    "As we computed above,\n",
    "$$\\begin{pmatrix} 1 \\\\ 0 \\end{pmatrix} \\otimes \\begin{pmatrix} 1 \\\\ 0 \\end{pmatrix} = \\begin{pmatrix} 1 \\\\ 0 \\\\ 0 \\\\ 0 \\end{pmatrix}$$\n",
    "and we see that\n",
    "$$ (H\\otimes H) \\left(|0\\rangle \\otimes |0\\rangle \\right) = \\begin{pmatrix} H_{11}H_{11} \\\\ H_{11}H_{21} \\\\ H_{21}H_{11} \\\\ H_{21}H_{21} \\end{pmatrix} = \\left(H |0\\rangle \\right)\\otimes \\left(H |0\\rangle \\right)$$\n",
    "Similarly\n",
    "$$ (H\\otimes H) \\left(|0\\rangle \\otimes |1\\rangle \\right) = \\begin{pmatrix} H_{11}H_{12} \\\\ H_{11}H_{22} \\\\ H_{21}H_{12} \\\\ H_{12}H_{22} \\end{pmatrix} = \\left(H |0\\rangle \\right)\\otimes \\left(H |1\\rangle \\right)$$\n",
    "$$ (H\\otimes H) \\left(|1\\rangle \\otimes |0\\rangle \\right) = \\begin{pmatrix} H_{12}H_{11} \\\\ H_{12}H_{21} \\\\ H_{22}H_{11} \\\\ H_{22}H_{21} \\end{pmatrix} = \\left(H |1\\rangle \\right)\\otimes \\left(H |0\\rangle \\right)$$\n",
    "$$ (H\\otimes H) \\left(|1\\rangle \\otimes |1\\rangle \\right) = \\begin{pmatrix} H_{12}H_{12} \\\\ H_{12}H_{22} \\\\ H_{22}H_{12} \\\\ H_{22}H_{22} \\end{pmatrix} = \\left(H |1\\rangle \\right)\\otimes \\left(H |1\\rangle \\right)$$\n",
    "which can be interpreted as\n",
    "$$ |++\\rangle = (H\\otimes H) |00\\rangle, \\quad |+-\\rangle = (H\\otimes H) |01\\rangle, \\quad |-+\\rangle = (H\\otimes H) |10\\rangle, \\quad \\text{and}\\quad |--\\rangle = (H\\otimes H)|11\\rangle$$"
   ]
  },
  {
   "cell_type": "markdown",
   "metadata": {},
   "source": [
    "Note that Kronecker products work well with inverses.  If $A$ and $B$ are invertible matrices and $x$ and $y$ are of appropriate dimension,\n",
    "$$ (A\\otimes B)(A^{-1}\\otimes B^{-1})(x\\otimes y) = (A\\otimes B)(A^{-1}x\\otimes B^{-1}\\otimes y)=(AA^{-1}x)\\otimes (BB^{-1}y)\n",
    "=x\\otimes y$$\n",
    "implying that $(A\\otimes B)^{-1}=A^{-1}\\otimes B^{-1}$.  Since $H$ is Hermitian,\n",
    "$$ (H\\otimes H)^{-1}=H^{-1}\\otimes H^{-1} = H^T \\otimes H^T$$."
   ]
  },
  {
   "cell_type": "markdown",
   "metadata": {},
   "source": [
    "Let's understand how the CNOT operator in the Hadamard basis.  For notational simplicity, define\n",
    "$$ e_1=|00\\rangle \\quad e_2=|01\\rangle \\quad e_3=|10\\rangle \\quad \\text{and}\\quad e_4=|11\\rangle$$\n",
    "and\n",
    "$$ w_1 =|++\\rangle \\quad w_2=|+-\\rangle \\quad w_3=|--\\rangle \\quad \\text{and}\\quad w_4=|--\\rangle$$\n",
    "Consider $P$ acting upon a vector $\\sum_{i=1}^4\\alpha_i w_i$ for some $(\\alpha_i)_{i=1}^4$.  We want to write\n",
    "$$ P\\left(\\sum_{i=1}^4 \\alpha_i w_i\\right) = \\sum_{i=1}^4 \\beta_i w_i$$\n",
    "Let's first write\n",
    "$$\\sum_{i=1}^4 \\alpha_i w_i = \\sum_{i=1}^4 \\alpha_i H e_i = (H\\otimes H)\\left(\\sum_{i=1}^4 \\alpha_i e_i\\right) = (H\\otimes H)\\begin{pmatrix} \\alpha_1 \\\\ \\alpha_2 \\\\ \\alpha_3 \\\\ \\alpha_4 \\end{pmatrix}$$\n",
    "and\n",
    "$$\\sum_{i=1}^4 \\beta_i w_i = \\sum_{i=1}^4 \\beta_i (H\\otimes H) e_i = (H\\otimes H)\\left(\\sum_{i=1}^4 \\beta_i e_i\\right) = (H\\otimes H)\\begin{pmatrix} \\beta_1 \\\\ \\beta_2 \\\\ \\beta_3 \\\\ \\beta_4 \\end{pmatrix}$$\n",
    "Then\n",
    "$$ (H\\otimes H)\\begin{pmatrix} \\beta_1 \\\\ \\beta_2 \\\\ \\beta_3 \\\\ \\beta_4 \\end{pmatrix} = P(H \\otimes H)\\begin{pmatrix} \\alpha_1 \\\\ \\alpha_2 \\\\ \\alpha_3 \\\\ \\alpha_4 \\end{pmatrix}$$\n",
    "implying that\n",
    "$$ \\begin{pmatrix} \\beta_1 \\\\ \\beta_2 \\\\ \\beta_3 \\\\ \\beta_4 \\end{pmatrix} = (H\\otimes H)^{-1}P(H\\otimes H) \\begin{pmatrix} \\alpha_1 \\\\ \\alpha_2 \\\\ \\alpha_3 \\\\ \\alpha_4 \\end{pmatrix}$$"
   ]
  },
  {
   "cell_type": "markdown",
   "metadata": {},
   "source": [
    "With\n",
    "$$H=\\frac{1}{\\sqrt{2}}\\begin{pmatrix} 1 & 1 \\\\ 1 & -1 \\end{pmatrix}$$\n",
    "we can explicitly calculate that\n",
    "$$ H\\otimes H = \\frac12 \\begin{pmatrix} \n",
    "1 & 1 & 1 & 1 \\\\\n",
    "1 & -1 & 1 & -1 \\\\\n",
    "1 & 1 & -1 & -1 \\\\\n",
    "1 & -1 & -1 & 1 \\end{pmatrix}$$\n",
    "and (since in fact $H^{-1}=H$),\n",
    "$$ (H\\otimes H)^{-1} = \\frac12 \\begin{pmatrix} \n",
    "1 & 1 & 1 & 1 \\\\\n",
    "1 & -1 & 1 & -1 \\\\\n",
    "1 & 1 & -1 & -1 \\\\\n",
    "1 & -1 & -1 & 1 \\end{pmatrix}$$\n",
    "and thus\n",
    "$$ (H\\otimes H)^{-1}P(H\\otimes H) = \\frac14 \\begin{pmatrix} \n",
    "1 & 1 & 1 & 1 \\\\\n",
    "1 & -1 & 1 & -1 \\\\\n",
    "1 & 1 & -1 & -1 \\\\\n",
    "1 & -1 & -1 & 1 \\end{pmatrix}\\begin{pmatrix} \n",
    "1 & 0 & 0 & 0 \\\\\n",
    "0 & 1 & 0 & 0 \\\\\n",
    "0 & 0 & 0 & 1 \\\\\n",
    "0 & 0 & 1 & 0 \\end{pmatrix}\\begin{pmatrix} \n",
    "1 & 1 & 1 & 1 \\\\\n",
    "1 & -1 & 1 & -1 \\\\\n",
    "1 & 1 & -1 & -1 \\\\\n",
    "1 & -1 & -1 & 1 \\end{pmatrix}\n",
    "= \\begin{pmatrix} \n",
    "1 & 0 & 0 & 0\\\\\n",
    "0 & 0 & 0 & 1\\\\\n",
    "0 & 0 & 1 & 0 \\\\\n",
    "0 & 1 & 0 & 0 \\end{pmatrix}\n",
    "$$"
   ]
  },
  {
   "cell_type": "code",
   "execution_count": null,
   "metadata": {},
   "outputs": [],
   "source": []
  }
 ],
 "metadata": {
  "kernelspec": {
   "display_name": "Python 3 (ipykernel)",
   "language": "python",
   "name": "python3"
  },
  "language_info": {
   "codemirror_mode": {
    "name": "ipython",
    "version": 3
   },
   "file_extension": ".py",
   "mimetype": "text/x-python",
   "name": "python",
   "nbconvert_exporter": "python",
   "pygments_lexer": "ipython3",
   "version": "3.9.7"
  }
 },
 "nbformat": 4,
 "nbformat_minor": 4
}
