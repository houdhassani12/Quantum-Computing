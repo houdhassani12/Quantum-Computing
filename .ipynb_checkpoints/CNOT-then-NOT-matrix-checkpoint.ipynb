{
 "cells": [
  {
   "cell_type": "markdown",
   "metadata": {},
   "source": [
    "<img src=\"https://news.illinois.edu/files/6367/543635/116641.jpg\" alt=\"University of Illinois\" width=\"250px\"/>\n",
    "\n",
    "# Composition of Quantum Logic\n",
    "By HOud Hassani\n",
    "* <houdh2@illinois.edu>\n",
    "* <https://www.linkedin.com/in/houd-hassani-0005101aa/>\n",
    "\n",
    "\n",
    "By Richard Sowers\n",
    "* <r-sowers@illinois.edu>\n",
    "* <https://publish.illinois.edu/r-sowers/>\n",
    "\n",
    "Copyright 2022 University of Illinois Board of Trustees. All Rights Reserved."
   ]
  },
  {
   "cell_type": "markdown",
   "metadata": {},
   "source": [
    "Let's formalize a connection between logic and composition of matrices.  Let's consider two qubits with labels\n",
    "$$ (0,0), (0,1), (1,0), (1,1).$$"
   ]
  },
  {
   "cell_type": "markdown",
   "metadata": {},
   "source": [
    "## The CNOT operator"
   ]
  },
  {
   "cell_type": "markdown",
   "metadata": {},
   "source": [
    "The CNOT matrix is (using the first bit as control and the second as target)\n",
    "$$H_1=\\begin{pmatrix}\n",
    "1 & 0 & 0 & 0 \\\\\n",
    "0 & 1 & 0 & 0 \\\\\n",
    "0 & 0 & 0 & 1 \\\\\n",
    "0 & 0 & 1 & 0 \\end {pmatrix}$$\n",
    "Corresponding to logic\n",
    "* $(0,0)\\Rightarrow (0,0)$\n",
    "* $(0,1)\\Rightarrow (0,1)$\n",
    "* $(1,0)\\Rightarrow (1,1)$\n",
    "* $(1,1)\\Rightarrow (1,0)$\n",
    "\n",
    "In terms of Boolean logic, the target bit becomes the exclusive or of the target and control bits."
   ]
  },
  {
   "cell_type": "markdown",
   "metadata": {},
   "source": [
    "## The NOT operator"
   ]
  },
  {
   "cell_type": "markdown",
   "metadata": {},
   "source": [
    "Let's secondly construct a NOT operator on the first qubit \n",
    "$$H_2=\\begin{pmatrix}\n",
    "0 & 0 & 1& 0 \\\\\n",
    "0 & 0 & 0 & 1 \\\\\n",
    "1 & 0 & 0 & 0 \\\\\n",
    "0 & 1 & 0 & 0 \\end {pmatrix}$$\n",
    "Corresponding to logic\n",
    "* $(0,0)\\Rightarrow (1,0)$\n",
    "* $(0,1)\\Rightarrow (1,1)$\n",
    "* $(1,0)\\Rightarrow (0,0)$\n",
    "* $(1,1)\\Rightarrow (0,1)$"
   ]
  },
  {
   "cell_type": "markdown",
   "metadata": {},
   "source": [
    "## Composition; CNOT and then NOT"
   ]
  },
  {
   "cell_type": "markdown",
   "metadata": {},
   "source": [
    "Let's compose operators; let's apply a CNOT as above (control is first bit, target is second bit) followed by a NOT on the first bit.  We can write this as\n",
    "$$ H_2H_1 = \\begin{pmatrix}\n",
    "0 & 0 & 1& 0 \\\\\n",
    "0 & 0 & 0 & 1 \\\\\n",
    "1 & 0 & 0 & 0 \\\\\n",
    "0 & 1 & 0 & 0 \\end {pmatrix}\\begin{pmatrix}\n",
    "1 & 0 & 0 & 0 \\\\\n",
    "0 & 1 & 0 & 0 \\\\\n",
    "0 & 0 & 0 & 1 \\\\\n",
    "0 & 0 & 1 & 0 \\end {pmatrix}= \\begin{pmatrix}\n",
    "0 & 0 & 0 & 1 \\\\\n",
    "0 & 0 & 1 & 0 \\\\\n",
    "1 & 0 & 0 & 0 \\\\\n",
    "0 & 1 & 0 & 0 \\end {pmatrix}$$\n",
    "corresponding to logic\n",
    "* $(0,0)\\Rightarrow (1,0)$\n",
    "* $(0,1)\\Rightarrow (1,1)$\n",
    "* $(1,0)\\Rightarrow (0,1)$\n",
    "* $(1,1)\\Rightarrow (0,0)$\n"
   ]
  },
  {
   "cell_type": "markdown",
   "metadata": {},
   "source": [
    "## Composition; NOT and then CNOT"
   ]
  },
  {
   "cell_type": "code",
   "execution_count": null,
   "metadata": {},
   "outputs": [],
   "source": []
  },
  {
   "cell_type": "markdown",
   "metadata": {},
   "source": [
    "## Composition; NOT and then CNOT and then NOT"
   ]
  },
  {
   "cell_type": "code",
   "execution_count": 2,
   "metadata": {},
   "outputs": [],
   "source": [
    "#(00) becomes (00), (01) becomes (01), (10) becomes (11), (11) becomes (10)"
   ]
  },
  {
   "cell_type": "code",
   "execution_count": 2,
   "metadata": {},
   "outputs": [],
   "source": [
    "#(00) becomes (10), (01) becomes (11), (11) becomes (01), (10) becomes (00)"
   ]
  },
  {
   "cell_type": "markdown",
   "metadata": {},
   "source": [
    "If you instead perform NOT on the second qubit it becomes\n",
    "$$\\begin{pmatrix}\n",
    "0 & 1 & 0 & 0 \\\\\n",
    "1 & 0 & 0 & 0 \\\\\n",
    "0 & 0 & 1 & 0 \\\\\n",
    "0 & 0 & 0 & 1 \\end {pmatrix}$$"
   ]
  },
  {
   "cell_type": "code",
   "execution_count": 3,
   "metadata": {},
   "outputs": [],
   "source": [
    "#(00) becomes (01), (01) becomes (00), (11) becomes (10), (10) becomes (11)"
   ]
  },
  {
   "cell_type": "markdown",
   "metadata": {},
   "source": [
    "If you instead perform NOT on both first and second qubits it becomes \n",
    "$$\\begin{pmatrix}\n",
    "0 & 0 & 1 & 0 \\\\\n",
    "0 & 0 & 0 & 1 \\\\\n",
    "0 & 1 & 0 & 0 \\\\\n",
    "1 & 0 & 0 & 0 \\end {pmatrix}$$"
   ]
  },
  {
   "cell_type": "code",
   "execution_count": 4,
   "metadata": {},
   "outputs": [],
   "source": [
    "#(00) becomes (11), (01) becomes (10), (11) becomes (00), (10) becomes (01)"
   ]
  }
 ],
 "metadata": {
  "kernelspec": {
   "display_name": "Python 3 (ipykernel)",
   "language": "python",
   "name": "python3"
  },
  "language_info": {
   "codemirror_mode": {
    "name": "ipython",
    "version": 3
   },
   "file_extension": ".py",
   "mimetype": "text/x-python",
   "name": "python",
   "nbconvert_exporter": "python",
   "pygments_lexer": "ipython3",
   "version": "3.9.7"
  }
 },
 "nbformat": 4,
 "nbformat_minor": 4
}
