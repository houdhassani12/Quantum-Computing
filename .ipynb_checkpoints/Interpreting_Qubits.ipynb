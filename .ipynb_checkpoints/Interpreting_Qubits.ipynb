{
 "cells": [
  {
   "cell_type": "markdown",
   "metadata": {},
   "source": [
    "<img src=\"https://news.illinois.edu/files/6367/543635/116641.jpg\" alt=\"University of Illinois\" width=\"250px\"/>\n",
    "\n",
    "# Interpreting Qubits in Qiskit\n",
    "By Houd Hassani\n",
    "* <houdh2@illinois.edu>\n",
    "* <https://www.linkedin.com/in/houd-hassani-0005101aa/>\n",
    "\n",
    "\n",
    "By Richard Sowers\n",
    "* <r-sowers@illinois.edu>\n",
    "* <https://publish.illinois.edu/r-sowers/>\n",
    "\n",
    "Copyright 2022 University of Illinois Board of Trustees. All Rights Reserved."
   ]
  },
  {
   "cell_type": "markdown",
   "metadata": {},
   "source": [
    "# reverse_bits()"
   ]
  },
  {
   "cell_type": "markdown",
   "metadata": {},
   "source": [
    "In Qiskit Qubits are interpreted from right to left. This means that in a sample circuit of 2 qubits the 0th qubit would take the right position. Below is an example of this sample circuit, and applying a NOT operation on the 0th qubit."
   ]
  },
  {
   "cell_type": "code",
   "execution_count": 9,
   "metadata": {},
   "outputs": [
    {
     "data": {
      "text/html": [
       "<pre style=\"word-wrap: normal;white-space: pre;background: #fff0;line-height: 1.1;font-family: &quot;Courier New&quot;,Courier,monospace\">        ┌───┐ ░ ┌─┐   \n",
       "   q_0: ┤ X ├─░─┤M├───\n",
       "        └───┘ ░ └╥┘┌─┐\n",
       "   q_1: ──────░──╫─┤M├\n",
       "              ░  ║ └╥┘\n",
       "meas: 2/═════════╩══╩═\n",
       "                 0  1 </pre>"
      ],
      "text/plain": [
       "        ┌───┐ ░ ┌─┐   \n",
       "   q_0: ┤ X ├─░─┤M├───\n",
       "        └───┘ ░ └╥┘┌─┐\n",
       "   q_1: ──────░──╫─┤M├\n",
       "              ░  ║ └╥┘\n",
       "meas: 2/═════════╩══╩═\n",
       "                 0  1 "
      ]
     },
     "execution_count": 9,
     "metadata": {},
     "output_type": "execute_result"
    }
   ],
   "source": [
    "from qiskit import QuantumCircuit, Aer, execute\n",
    "from qiskit.visualization import plot_histogram\n",
    "circuit = QuantumCircuit(2) \n",
    "qasm_sim = Aer.get_backend('qasm_simulator')\n",
    "# creates circuit with 2 qubits \n",
    "# initialized to 0, 0\n",
    "\n",
    "circuit.x(0)\n",
    "#This NOT operation changes the states to 0,1\n",
    "circuit.measure_all()\n",
    "circuit.draw()"
   ]
  },
  {
   "cell_type": "code",
   "execution_count": 8,
   "metadata": {},
   "outputs": [
    {
     "name": "stdout",
     "output_type": "stream",
     "text": [
      "{'01': 1024}\n"
     ]
    }
   ],
   "source": [
    "counts = execute(circuit, qasm_sim).result().get_counts()\n",
    "print(counts)"
   ]
  },
  {
   "cell_type": "markdown",
   "metadata": {},
   "source": [
    "Using reverse_bits() we can change the order of the qubits in the circuit. This will instead perform the NOT operation on the 1th qubit. The diagram shows the X-gate now being applied on qubit 1."
   ]
  },
  {
   "cell_type": "code",
   "execution_count": 16,
   "metadata": {},
   "outputs": [
    {
     "data": {
      "text/html": [
       "<pre style=\"word-wrap: normal;white-space: pre;background: #fff0;line-height: 1.1;font-family: &quot;Courier New&quot;,Courier,monospace\">              ░    ┌─┐\n",
       "   q_0: ──────░────┤M├\n",
       "        ┌───┐ ░ ┌─┐└╥┘\n",
       "   q_1: ┤ X ├─░─┤M├─╫─\n",
       "        └───┘ ░ └╥┘ ║ \n",
       "meas: 2/═════════╩══╩═\n",
       "                 1  0 </pre>"
      ],
      "text/plain": [
       "              ░    ┌─┐\n",
       "   q_0: ──────░────┤M├\n",
       "        ┌───┐ ░ ┌─┐└╥┘\n",
       "   q_1: ┤ X ├─░─┤M├─╫─\n",
       "        └───┘ ░ └╥┘ ║ \n",
       "meas: 2/═════════╩══╩═\n",
       "                 1  0 "
      ]
     },
     "execution_count": 16,
     "metadata": {},
     "output_type": "execute_result"
    }
   ],
   "source": [
    "circuit = QuantumCircuit(2) \n",
    "# creates circuit with 2 qubits \n",
    "# initialized to 0, 0\n",
    "\n",
    "circuit.x(0)\n",
    "circuit.measure_all()\n",
    "circuit = circuit.reverse_bits()\n",
    "#The output is now 1,0 \n",
    "circuit.draw()"
   ]
  },
  {
   "cell_type": "code",
   "execution_count": 17,
   "metadata": {},
   "outputs": [
    {
     "name": "stdout",
     "output_type": "stream",
     "text": [
      "{'10': 1024}\n"
     ]
    }
   ],
   "source": [
    "counts = execute(circuit, qasm_sim).result().get_counts()\n",
    "print(counts)"
   ]
  },
  {
   "cell_type": "markdown",
   "metadata": {},
   "source": [
    "# measure()"
   ]
  },
  {
   "cell_type": "markdown",
   "metadata": {},
   "source": [
    "Alternatively, we can do something similar using measure(). Consider a sample circuit with 2 qubits and 2 classical bits, and again performing the NOT operation on the 0th qubit. Using circuit.measure([0,1],[0,1]) will perform the operation normally on the 0th bit and the output will be 0,1."
   ]
  },
  {
   "cell_type": "code",
   "execution_count": 27,
   "metadata": {},
   "outputs": [
    {
     "data": {
      "text/html": [
       "<pre style=\"word-wrap: normal;white-space: pre;background: #fff0;line-height: 1.1;font-family: &quot;Courier New&quot;,Courier,monospace\">     ┌───┐┌─┐\n",
       "q_0: ┤ X ├┤M├\n",
       "     └┬─┬┘└╥┘\n",
       "q_1: ─┤M├──╫─\n",
       "      └╥┘  ║ \n",
       "c: 2/══╩═══╩═\n",
       "       1   0 </pre>"
      ],
      "text/plain": [
       "     ┌───┐┌─┐\n",
       "q_0: ┤ X ├┤M├\n",
       "     └┬─┬┘└╥┘\n",
       "q_1: ─┤M├──╫─\n",
       "      └╥┘  ║ \n",
       "c: 2/══╩═══╩═\n",
       "       1   0 "
      ]
     },
     "execution_count": 27,
     "metadata": {},
     "output_type": "execute_result"
    }
   ],
   "source": [
    "circuit = QuantumCircuit(2, 2) \n",
    "# creates circuit with 2 qubits and 2 classical bits\n",
    "# initialized to 0, 0\n",
    "\n",
    "circuit.x(0)\n",
    "circuit.measure([0, 1], [0, 1])\n",
    "circuit.draw()"
   ]
  },
  {
   "cell_type": "code",
   "execution_count": 26,
   "metadata": {},
   "outputs": [
    {
     "name": "stdout",
     "output_type": "stream",
     "text": [
      "{'01': 1024}\n"
     ]
    }
   ],
   "source": [
    "counts = execute(circuit, qasm_sim).result().get_counts()\n",
    "print(counts)"
   ]
  },
  {
   "cell_type": "markdown",
   "metadata": {},
   "source": [
    "However changing the measure parameters can yeild different results. If we instead do circuit.measure([1, 0], [0, 1]) this will still perform the operation on the 0th qubit, as shown in the diagram; however, the output will be flipped since we changed the position of the 0th and 1th qubit. This means the output will be 1,0"
   ]
  },
  {
   "cell_type": "code",
   "execution_count": 29,
   "metadata": {},
   "outputs": [
    {
     "data": {
      "text/html": [
       "<pre style=\"word-wrap: normal;white-space: pre;background: #fff0;line-height: 1.1;font-family: &quot;Courier New&quot;,Courier,monospace\">     ┌───┐┌─┐\n",
       "q_0: ┤ X ├┤M├\n",
       "     └┬─┬┘└╥┘\n",
       "q_1: ─┤M├──╫─\n",
       "      └╥┘  ║ \n",
       "c: 2/══╩═══╩═\n",
       "       0   1 </pre>"
      ],
      "text/plain": [
       "     ┌───┐┌─┐\n",
       "q_0: ┤ X ├┤M├\n",
       "     └┬─┬┘└╥┘\n",
       "q_1: ─┤M├──╫─\n",
       "      └╥┘  ║ \n",
       "c: 2/══╩═══╩═\n",
       "       0   1 "
      ]
     },
     "execution_count": 29,
     "metadata": {},
     "output_type": "execute_result"
    }
   ],
   "source": [
    "circuit = QuantumCircuit(2, 2) \n",
    "# creates circuit with 2 qubits and 2 classical bits\n",
    "# initialized to 0, 0\n",
    "\n",
    "circuit.x(0)\n",
    "circuit.measure([1, 0], [0, 1])\n",
    "circuit.draw()"
   ]
  },
  {
   "cell_type": "code",
   "execution_count": 30,
   "metadata": {},
   "outputs": [
    {
     "name": "stdout",
     "output_type": "stream",
     "text": [
      "{'10': 1024}\n"
     ]
    }
   ],
   "source": [
    "counts = execute(circuit, qasm_sim).result().get_counts()\n",
    "print(counts)"
   ]
  }
 ],
 "metadata": {
  "kernelspec": {
   "display_name": "Python 3",
   "language": "python",
   "name": "python3"
  },
  "language_info": {
   "codemirror_mode": {
    "name": "ipython",
    "version": 3
   },
   "file_extension": ".py",
   "mimetype": "text/x-python",
   "name": "python",
   "nbconvert_exporter": "python",
   "pygments_lexer": "ipython3",
   "version": "3.7.4"
  }
 },
 "nbformat": 4,
 "nbformat_minor": 4
}
