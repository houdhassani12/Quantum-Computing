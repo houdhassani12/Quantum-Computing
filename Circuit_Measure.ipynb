{
 "cells": [
  {
   "cell_type": "code",
   "execution_count": 1,
   "metadata": {},
   "outputs": [
    {
     "data": {
      "text/plain": [
       "<qiskit.circuit.instructionset.InstructionSet at 0x7fb4a724b8c0>"
      ]
     },
     "execution_count": 1,
     "metadata": {},
     "output_type": "execute_result"
    }
   ],
   "source": [
    "#Changing circtut.measure for this circuit\n",
    "import qiskit as q\n",
    "%matplotlib inline\n",
    "circuit = q.QuantumCircuit(2, 2) # 2 qubits, 2 classical bits\n",
    "\n",
    "# initialized to 0, 0\n",
    "circuit.x(0)\n",
    "# flipped first qubit, now it's 1, 0\n",
    "circuit.cx(0, 1)\n",
    "# flipped to 1, 1\n",
    "\n",
    "\n",
    "#All combinations of circuit.measure\n",
    "circuit.measure([0, 0], [0, 0])\n",
    "# --> (0,1)\n",
    "circuit.measure([0, 0], [0, 1])\n",
    "# --> (1,1)\n",
    "circuit.measure([0, 0], [1, 0])\n",
    "# --> (1,1)\n",
    "circuit.measure([0, 0], [1, 1])\n",
    "# --> (1,0)\n",
    "circuit.measure([0, 1], [0, 0])\n",
    "# --> (0,1)\n",
    "circuit.measure([0, 1], [0, 1])\n",
    "# original input --> (1,1)\n",
    "circuit.measure([0, 1], [1, 0])\n",
    "# --> (1,1)\n",
    "circuit.measure([0, 1], [1, 1])\n",
    "# --> (1,0)\n",
    "circuit.measure([1, 0], [0, 0])\n",
    "# --> (0,1)\n",
    "circuit.measure([1, 0], [0, 1])\n",
    "# --> (1,1)\n",
    "circuit.measure([1, 0], [1, 0])\n",
    "# --> (1,1)\n",
    "circuit.measure([1, 0], [1, 1])\n",
    "# --> (1,0)\n",
    "circuit.measure([1, 1], [0, 0])\n",
    "# --> (0,1)\n",
    "circuit.measure([1, 1], [0, 1])\n",
    "# --> (1,1)\n",
    "circuit.measure([1, 1], [1, 0])\n",
    "# --> (1,1)\n",
    "circuit.measure([1, 1], [1, 1])\n",
    "# --> (1,0)"
   ]
  }
 ],
 "metadata": {
  "kernelspec": {
   "display_name": "Python 3",
   "language": "python",
   "name": "python3"
  },
  "language_info": {
   "codemirror_mode": {
    "name": "ipython",
    "version": 3
   },
   "file_extension": ".py",
   "mimetype": "text/x-python",
   "name": "python",
   "nbconvert_exporter": "python",
   "pygments_lexer": "ipython3",
   "version": "3.7.4"
  }
 },
 "nbformat": 4,
 "nbformat_minor": 4
}
