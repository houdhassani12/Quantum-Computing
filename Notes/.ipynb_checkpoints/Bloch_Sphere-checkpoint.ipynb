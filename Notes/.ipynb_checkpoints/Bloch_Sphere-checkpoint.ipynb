{
 "cells": [
  {
   "cell_type": "code",
   "execution_count": 2,
   "metadata": {},
   "outputs": [
    {
     "name": "stdout",
     "output_type": "stream",
     "text": [
      "Collecting package metadata (current_repodata.json): done\n",
      "Solving environment: done\n",
      "\n",
      "# All requested packages already installed.\n",
      "\n"
     ]
    }
   ],
   "source": [
    "# Install a conda package in the current Jupyter kernel\n",
    "import sys\n",
    "!conda install --yes --prefix {sys.prefix} numpy"
   ]
  },
  {
   "cell_type": "code",
   "execution_count": 3,
   "metadata": {},
   "outputs": [
    {
     "name": "stdout",
     "output_type": "stream",
     "text": [
      "Requirement already satisfied: numpy in ./opt/anaconda3/lib/python3.7/site-packages (1.17.2)\r\n"
     ]
    }
   ],
   "source": [
    "# Install a pip package in the current Jupyter kernel\n",
    "import sys\n",
    "!{sys.executable} -m pip install numpy"
   ]
  },
  {
   "cell_type": "code",
   "execution_count": 4,
   "metadata": {},
   "outputs": [
    {
     "name": "stdout",
     "output_type": "stream",
     "text": [
      "Collecting package metadata (current_repodata.json): done\n",
      "Solving environment: done\n",
      "\n",
      "# All requested packages already installed.\n",
      "\n",
      "\n",
      "Note: you may need to restart the kernel to use updated packages.\n"
     ]
    }
   ],
   "source": [
    "conda install git"
   ]
  },
  {
   "cell_type": "code",
   "execution_count": 5,
   "metadata": {},
   "outputs": [
    {
     "name": "stdout",
     "output_type": "stream",
     "text": [
      "Collecting git+https://github.com/qiskit-community/qiskit-textbook.git#subdirectory=qiskit-textbook-src\n",
      "  Cloning https://github.com/qiskit-community/qiskit-textbook.git to /private/var/folders/mg/qy246_x17bs3ss4t64jbv0m80000gn/T/pip-req-build-km3p4e34\n",
      "  Running command git clone -q https://github.com/qiskit-community/qiskit-textbook.git /private/var/folders/mg/qy246_x17bs3ss4t64jbv0m80000gn/T/pip-req-build-km3p4e34\n",
      "Requirement already satisfied (use --upgrade to upgrade): qiskit-textbook==0.1.0 from git+https://github.com/qiskit-community/qiskit-textbook.git#subdirectory=qiskit-textbook-src in ./opt/anaconda3/lib/python3.7/site-packages\n",
      "Requirement already satisfied: qiskit in ./opt/anaconda3/lib/python3.7/site-packages (from qiskit-textbook==0.1.0) (0.34.1)\n",
      "Requirement already satisfied: ipython in ./opt/anaconda3/lib/python3.7/site-packages (from qiskit-textbook==0.1.0) (7.8.0)\n",
      "Requirement already satisfied: ipywidgets in ./opt/anaconda3/lib/python3.7/site-packages (from qiskit-textbook==0.1.0) (7.5.1)\n",
      "Requirement already satisfied: numpy in ./opt/anaconda3/lib/python3.7/site-packages (from qiskit-textbook==0.1.0) (1.17.2)\n",
      "Requirement already satisfied: matplotlib in ./opt/anaconda3/lib/python3.7/site-packages (from qiskit-textbook==0.1.0) (3.1.1)\n",
      "Requirement already satisfied: qiskit-ignis==0.7.0 in ./opt/anaconda3/lib/python3.7/site-packages (from qiskit->qiskit-textbook==0.1.0) (0.7.0)\n",
      "Requirement already satisfied: qiskit-ibmq-provider==0.18.3 in ./opt/anaconda3/lib/python3.7/site-packages (from qiskit->qiskit-textbook==0.1.0) (0.18.3)\n",
      "Requirement already satisfied: qiskit-terra==0.19.1 in ./opt/anaconda3/lib/python3.7/site-packages (from qiskit->qiskit-textbook==0.1.0) (0.19.1)\n",
      "Requirement already satisfied: qiskit-aer==0.10.2 in ./opt/anaconda3/lib/python3.7/site-packages (from qiskit->qiskit-textbook==0.1.0) (0.10.2)\n",
      "Requirement already satisfied: traitlets>=4.2 in ./opt/anaconda3/lib/python3.7/site-packages (from ipython->qiskit-textbook==0.1.0) (4.3.3)\n",
      "Requirement already satisfied: prompt-toolkit<2.1.0,>=2.0.0 in ./opt/anaconda3/lib/python3.7/site-packages (from ipython->qiskit-textbook==0.1.0) (2.0.10)\n",
      "Requirement already satisfied: appnope; sys_platform == \"darwin\" in ./opt/anaconda3/lib/python3.7/site-packages (from ipython->qiskit-textbook==0.1.0) (0.1.0)\n",
      "Requirement already satisfied: jedi>=0.10 in ./opt/anaconda3/lib/python3.7/site-packages (from ipython->qiskit-textbook==0.1.0) (0.15.1)\n",
      "Requirement already satisfied: pexpect; sys_platform != \"win32\" in ./opt/anaconda3/lib/python3.7/site-packages (from ipython->qiskit-textbook==0.1.0) (4.7.0)\n",
      "Requirement already satisfied: pygments in ./opt/anaconda3/lib/python3.7/site-packages (from ipython->qiskit-textbook==0.1.0) (2.4.2)\n",
      "Requirement already satisfied: pickleshare in ./opt/anaconda3/lib/python3.7/site-packages (from ipython->qiskit-textbook==0.1.0) (0.7.5)\n",
      "Requirement already satisfied: backcall in ./opt/anaconda3/lib/python3.7/site-packages (from ipython->qiskit-textbook==0.1.0) (0.1.0)\n",
      "Requirement already satisfied: decorator in ./opt/anaconda3/lib/python3.7/site-packages (from ipython->qiskit-textbook==0.1.0) (4.4.0)\n",
      "Requirement already satisfied: setuptools>=18.5 in ./opt/anaconda3/lib/python3.7/site-packages (from ipython->qiskit-textbook==0.1.0) (41.4.0)\n",
      "Requirement already satisfied: nbformat>=4.2.0 in ./opt/anaconda3/lib/python3.7/site-packages (from ipywidgets->qiskit-textbook==0.1.0) (4.4.0)\n",
      "Requirement already satisfied: ipykernel>=4.5.1 in ./opt/anaconda3/lib/python3.7/site-packages (from ipywidgets->qiskit-textbook==0.1.0) (5.1.2)\n",
      "Requirement already satisfied: widgetsnbextension~=3.5.0 in ./opt/anaconda3/lib/python3.7/site-packages (from ipywidgets->qiskit-textbook==0.1.0) (3.5.1)\n",
      "Requirement already satisfied: cycler>=0.10 in ./opt/anaconda3/lib/python3.7/site-packages (from matplotlib->qiskit-textbook==0.1.0) (0.10.0)\n",
      "Requirement already satisfied: kiwisolver>=1.0.1 in ./opt/anaconda3/lib/python3.7/site-packages (from matplotlib->qiskit-textbook==0.1.0) (1.1.0)\n",
      "Requirement already satisfied: pyparsing!=2.0.4,!=2.1.2,!=2.1.6,>=2.0.1 in ./opt/anaconda3/lib/python3.7/site-packages (from matplotlib->qiskit-textbook==0.1.0) (2.4.2)\n",
      "Requirement already satisfied: python-dateutil>=2.1 in ./opt/anaconda3/lib/python3.7/site-packages (from matplotlib->qiskit-textbook==0.1.0) (2.8.0)\n",
      "Requirement already satisfied: retworkx>=0.8.0 in ./opt/anaconda3/lib/python3.7/site-packages (from qiskit-ignis==0.7.0->qiskit->qiskit-textbook==0.1.0) (0.11.0)\n",
      "Requirement already satisfied: scipy!=0.19.1,>=0.19 in ./opt/anaconda3/lib/python3.7/site-packages (from qiskit-ignis==0.7.0->qiskit->qiskit-textbook==0.1.0) (1.7.3)\n",
      "Requirement already satisfied: requests>=2.19 in ./opt/anaconda3/lib/python3.7/site-packages (from qiskit-ibmq-provider==0.18.3->qiskit->qiskit-textbook==0.1.0) (2.22.0)\n",
      "Requirement already satisfied: websocket-client>=1.0.1 in ./opt/anaconda3/lib/python3.7/site-packages (from qiskit-ibmq-provider==0.18.3->qiskit->qiskit-textbook==0.1.0) (1.2.3)\n",
      "Requirement already satisfied: requests-ntlm>=1.1.0 in ./opt/anaconda3/lib/python3.7/site-packages (from qiskit-ibmq-provider==0.18.3->qiskit->qiskit-textbook==0.1.0) (1.1.0)\n",
      "Requirement already satisfied: urllib3>=1.21.1 in ./opt/anaconda3/lib/python3.7/site-packages (from qiskit-ibmq-provider==0.18.3->qiskit->qiskit-textbook==0.1.0) (1.24.2)\n",
      "Requirement already satisfied: tweedledum<2.0,>=1.1 in ./opt/anaconda3/lib/python3.7/site-packages (from qiskit-terra==0.19.1->qiskit->qiskit-textbook==0.1.0) (1.1.1)\n",
      "Requirement already satisfied: dill>=0.3 in ./opt/anaconda3/lib/python3.7/site-packages (from qiskit-terra==0.19.1->qiskit->qiskit-textbook==0.1.0) (0.3.4)\n",
      "Requirement already satisfied: ply>=3.10 in ./opt/anaconda3/lib/python3.7/site-packages (from qiskit-terra==0.19.1->qiskit->qiskit-textbook==0.1.0) (3.11)\n",
      "Requirement already satisfied: symengine>=0.8; platform_machine == \"x86_64\" or platform_machine == \"aarch64\" or platform_machine == \"ppc64le\" or platform_machine == \"amd64\" or platform_machine == \"arm64\" in ./opt/anaconda3/lib/python3.7/site-packages (from qiskit-terra==0.19.1->qiskit->qiskit-textbook==0.1.0) (0.8.1)\n",
      "Requirement already satisfied: stevedore>=3.0.0 in ./opt/anaconda3/lib/python3.7/site-packages (from qiskit-terra==0.19.1->qiskit->qiskit-textbook==0.1.0) (3.5.0)\n",
      "Requirement already satisfied: sympy>=1.3 in ./opt/anaconda3/lib/python3.7/site-packages (from qiskit-terra==0.19.1->qiskit->qiskit-textbook==0.1.0) (1.4)\n",
      "Requirement already satisfied: python-constraint>=1.4 in ./opt/anaconda3/lib/python3.7/site-packages (from qiskit-terra==0.19.1->qiskit->qiskit-textbook==0.1.0) (1.4.0)\n",
      "Requirement already satisfied: psutil>=5 in ./opt/anaconda3/lib/python3.7/site-packages (from qiskit-terra==0.19.1->qiskit->qiskit-textbook==0.1.0) (5.6.3)\n",
      "Requirement already satisfied: ipython-genutils in ./opt/anaconda3/lib/python3.7/site-packages (from traitlets>=4.2->ipython->qiskit-textbook==0.1.0) (0.2.0)\n",
      "Requirement already satisfied: six in ./opt/anaconda3/lib/python3.7/site-packages (from traitlets>=4.2->ipython->qiskit-textbook==0.1.0) (1.12.0)\n",
      "Requirement already satisfied: wcwidth in ./opt/anaconda3/lib/python3.7/site-packages (from prompt-toolkit<2.1.0,>=2.0.0->ipython->qiskit-textbook==0.1.0) (0.1.7)\n",
      "Requirement already satisfied: parso>=0.5.0 in ./opt/anaconda3/lib/python3.7/site-packages (from jedi>=0.10->ipython->qiskit-textbook==0.1.0) (0.5.1)\n",
      "Requirement already satisfied: ptyprocess>=0.5 in ./opt/anaconda3/lib/python3.7/site-packages (from pexpect; sys_platform != \"win32\"->ipython->qiskit-textbook==0.1.0) (0.6.0)\n",
      "Requirement already satisfied: jupyter-core in ./opt/anaconda3/lib/python3.7/site-packages (from nbformat>=4.2.0->ipywidgets->qiskit-textbook==0.1.0) (4.5.0)\n",
      "Requirement already satisfied: jsonschema!=2.5.0,>=2.4 in ./opt/anaconda3/lib/python3.7/site-packages (from nbformat>=4.2.0->ipywidgets->qiskit-textbook==0.1.0) (3.0.2)\n",
      "Requirement already satisfied: jupyter-client in ./opt/anaconda3/lib/python3.7/site-packages (from ipykernel>=4.5.1->ipywidgets->qiskit-textbook==0.1.0) (5.3.3)\n",
      "Requirement already satisfied: tornado>=4.2 in ./opt/anaconda3/lib/python3.7/site-packages (from ipykernel>=4.5.1->ipywidgets->qiskit-textbook==0.1.0) (6.0.3)\n",
      "Requirement already satisfied: notebook>=4.4.1 in ./opt/anaconda3/lib/python3.7/site-packages (from widgetsnbextension~=3.5.0->ipywidgets->qiskit-textbook==0.1.0) (6.0.1)\n",
      "Requirement already satisfied: certifi>=2017.4.17 in ./opt/anaconda3/lib/python3.7/site-packages (from requests>=2.19->qiskit-ibmq-provider==0.18.3->qiskit->qiskit-textbook==0.1.0) (2019.9.11)\n",
      "Requirement already satisfied: idna<2.9,>=2.5 in ./opt/anaconda3/lib/python3.7/site-packages (from requests>=2.19->qiskit-ibmq-provider==0.18.3->qiskit->qiskit-textbook==0.1.0) (2.8)\n",
      "Requirement already satisfied: chardet<3.1.0,>=3.0.2 in ./opt/anaconda3/lib/python3.7/site-packages (from requests>=2.19->qiskit-ibmq-provider==0.18.3->qiskit->qiskit-textbook==0.1.0) (3.0.4)\n",
      "Requirement already satisfied: ntlm-auth>=1.0.2 in ./opt/anaconda3/lib/python3.7/site-packages (from requests-ntlm>=1.1.0->qiskit-ibmq-provider==0.18.3->qiskit->qiskit-textbook==0.1.0) (1.5.0)\n",
      "Requirement already satisfied: cryptography>=1.3 in ./opt/anaconda3/lib/python3.7/site-packages (from requests-ntlm>=1.1.0->qiskit-ibmq-provider==0.18.3->qiskit->qiskit-textbook==0.1.0) (2.7)\n",
      "Requirement already satisfied: importlib-metadata>=1.7.0; python_version < \"3.8\" in ./opt/anaconda3/lib/python3.7/site-packages (from stevedore>=3.0.0->qiskit-terra==0.19.1->qiskit->qiskit-textbook==0.1.0) (4.10.1)\n",
      "Requirement already satisfied: pbr!=2.1.0,>=2.0.0 in ./opt/anaconda3/lib/python3.7/site-packages (from stevedore>=3.0.0->qiskit-terra==0.19.1->qiskit->qiskit-textbook==0.1.0) (5.8.0)\n",
      "Requirement already satisfied: mpmath>=0.19 in ./opt/anaconda3/lib/python3.7/site-packages (from sympy>=1.3->qiskit-terra==0.19.1->qiskit->qiskit-textbook==0.1.0) (1.1.0)\n",
      "Requirement already satisfied: pyrsistent>=0.14.0 in ./opt/anaconda3/lib/python3.7/site-packages (from jsonschema!=2.5.0,>=2.4->nbformat>=4.2.0->ipywidgets->qiskit-textbook==0.1.0) (0.15.4)\n",
      "Requirement already satisfied: attrs>=17.4.0 in ./opt/anaconda3/lib/python3.7/site-packages (from jsonschema!=2.5.0,>=2.4->nbformat>=4.2.0->ipywidgets->qiskit-textbook==0.1.0) (19.2.0)\n",
      "Requirement already satisfied: pyzmq>=13 in ./opt/anaconda3/lib/python3.7/site-packages (from jupyter-client->ipykernel>=4.5.1->ipywidgets->qiskit-textbook==0.1.0) (18.1.0)\n",
      "Requirement already satisfied: prometheus-client in ./opt/anaconda3/lib/python3.7/site-packages (from notebook>=4.4.1->widgetsnbextension~=3.5.0->ipywidgets->qiskit-textbook==0.1.0) (0.7.1)\n",
      "Requirement already satisfied: jinja2 in ./opt/anaconda3/lib/python3.7/site-packages (from notebook>=4.4.1->widgetsnbextension~=3.5.0->ipywidgets->qiskit-textbook==0.1.0) (2.10.3)\n",
      "Requirement already satisfied: Send2Trash in ./opt/anaconda3/lib/python3.7/site-packages (from notebook>=4.4.1->widgetsnbextension~=3.5.0->ipywidgets->qiskit-textbook==0.1.0) (1.5.0)\n",
      "Requirement already satisfied: nbconvert in ./opt/anaconda3/lib/python3.7/site-packages (from notebook>=4.4.1->widgetsnbextension~=3.5.0->ipywidgets->qiskit-textbook==0.1.0) (5.6.0)\n",
      "Requirement already satisfied: terminado>=0.8.1 in ./opt/anaconda3/lib/python3.7/site-packages (from notebook>=4.4.1->widgetsnbextension~=3.5.0->ipywidgets->qiskit-textbook==0.1.0) (0.8.2)\n",
      "Requirement already satisfied: cffi!=1.11.3,>=1.8 in ./opt/anaconda3/lib/python3.7/site-packages (from cryptography>=1.3->requests-ntlm>=1.1.0->qiskit-ibmq-provider==0.18.3->qiskit->qiskit-textbook==0.1.0) (1.12.3)\n",
      "Requirement already satisfied: asn1crypto>=0.21.0 in ./opt/anaconda3/lib/python3.7/site-packages (from cryptography>=1.3->requests-ntlm>=1.1.0->qiskit-ibmq-provider==0.18.3->qiskit->qiskit-textbook==0.1.0) (1.0.1)\n",
      "Requirement already satisfied: typing-extensions>=3.6.4; python_version < \"3.8\" in ./opt/anaconda3/lib/python3.7/site-packages (from importlib-metadata>=1.7.0; python_version < \"3.8\"->stevedore>=3.0.0->qiskit-terra==0.19.1->qiskit->qiskit-textbook==0.1.0) (4.0.1)\n",
      "Requirement already satisfied: zipp>=0.5 in ./opt/anaconda3/lib/python3.7/site-packages (from importlib-metadata>=1.7.0; python_version < \"3.8\"->stevedore>=3.0.0->qiskit-terra==0.19.1->qiskit->qiskit-textbook==0.1.0) (0.6.0)\n",
      "Requirement already satisfied: MarkupSafe>=0.23 in ./opt/anaconda3/lib/python3.7/site-packages (from jinja2->notebook>=4.4.1->widgetsnbextension~=3.5.0->ipywidgets->qiskit-textbook==0.1.0) (1.1.1)\n",
      "Requirement already satisfied: testpath in ./opt/anaconda3/lib/python3.7/site-packages (from nbconvert->notebook>=4.4.1->widgetsnbextension~=3.5.0->ipywidgets->qiskit-textbook==0.1.0) (0.4.2)\n",
      "Requirement already satisfied: mistune<2,>=0.8.1 in ./opt/anaconda3/lib/python3.7/site-packages (from nbconvert->notebook>=4.4.1->widgetsnbextension~=3.5.0->ipywidgets->qiskit-textbook==0.1.0) (0.8.4)\n",
      "Requirement already satisfied: pandocfilters>=1.4.1 in ./opt/anaconda3/lib/python3.7/site-packages (from nbconvert->notebook>=4.4.1->widgetsnbextension~=3.5.0->ipywidgets->qiskit-textbook==0.1.0) (1.4.2)\n",
      "Requirement already satisfied: entrypoints>=0.2.2 in ./opt/anaconda3/lib/python3.7/site-packages (from nbconvert->notebook>=4.4.1->widgetsnbextension~=3.5.0->ipywidgets->qiskit-textbook==0.1.0) (0.3)\n",
      "Requirement already satisfied: defusedxml in ./opt/anaconda3/lib/python3.7/site-packages (from nbconvert->notebook>=4.4.1->widgetsnbextension~=3.5.0->ipywidgets->qiskit-textbook==0.1.0) (0.6.0)\n",
      "Requirement already satisfied: bleach in ./opt/anaconda3/lib/python3.7/site-packages (from nbconvert->notebook>=4.4.1->widgetsnbextension~=3.5.0->ipywidgets->qiskit-textbook==0.1.0) (3.1.0)\n",
      "Requirement already satisfied: pycparser in ./opt/anaconda3/lib/python3.7/site-packages (from cffi!=1.11.3,>=1.8->cryptography>=1.3->requests-ntlm>=1.1.0->qiskit-ibmq-provider==0.18.3->qiskit->qiskit-textbook==0.1.0) (2.19)\n",
      "Requirement already satisfied: more-itertools in ./opt/anaconda3/lib/python3.7/site-packages (from zipp>=0.5->importlib-metadata>=1.7.0; python_version < \"3.8\"->stevedore>=3.0.0->qiskit-terra==0.19.1->qiskit->qiskit-textbook==0.1.0) (7.2.0)\n",
      "Requirement already satisfied: webencodings in ./opt/anaconda3/lib/python3.7/site-packages (from bleach->nbconvert->notebook>=4.4.1->widgetsnbextension~=3.5.0->ipywidgets->qiskit-textbook==0.1.0) (0.5.1)\n",
      "Building wheels for collected packages: qiskit-textbook\n",
      "  Building wheel for qiskit-textbook (setup.py) ... \u001b[?25ldone\n",
      "\u001b[?25h  Created wheel for qiskit-textbook: filename=qiskit_textbook-0.1.0-cp37-none-any.whl size=16947 sha256=f81382fd9677a3bdb09982615a194d0be55777e65fe414cffbae94d1136593a1\n",
      "  Stored in directory: /private/var/folders/mg/qy246_x17bs3ss4t64jbv0m80000gn/T/pip-ephem-wheel-cache-to98ogz3/wheels/0c/57/26/1c12886a219af04a38ca1e674fdeeff40b8a5963326ba3c71a\n",
      "Successfully built qiskit-textbook\n",
      "Note: you may need to restart the kernel to use updated packages.\n"
     ]
    }
   ],
   "source": [
    "pip install git+https://github.com/qiskit-community/qiskit-textbook.git#subdirectory=qiskit-textbook-src"
   ]
  },
  {
   "cell_type": "code",
   "execution_count": 6,
   "metadata": {},
   "outputs": [],
   "source": [
    "#intall git and qiskit textbook"
   ]
  },
  {
   "cell_type": "markdown",
   "metadata": {},
   "source": [
    "General state of a qubit: \n",
    "\n",
    "$$ |\\psi > = \\alpha |0 > + \\beta |1 > $$\n",
    "\n",
    "where $$\\alpha$$ and $$\\beta$$ are complex numbers "
   ]
  },
  {
   "cell_type": "markdown",
   "metadata": {},
   "source": [
    "Confining them to real numbers we can represent the state of a qubit as:\n",
    "\n",
    "$$ |\\psi > = \\cos(\\theta/2) |0 > + e^{i\\phi}\\sin(\\theta/2) |1 > $$\n",
    "\n",
    "where $$\\theta$$ runs from 0 to pi\n",
    "and $$\\phi$$ runs from 0 to 2pi"
   ]
  },
  {
   "cell_type": "code",
   "execution_count": 25,
   "metadata": {},
   "outputs": [
    {
     "data": {
      "application/vnd.jupyter.widget-view+json": {
       "model_id": "5e9445233d65491ab02ef947367aefa7",
       "version_major": 2,
       "version_minor": 0
      },
      "text/plain": [
       "VBox(children=(Label(value='Define a qubit state using $\\\\theta$ and $\\\\phi$:'), Text(value='', placeholder='T…"
      ]
     },
     "metadata": {},
     "output_type": "display_data"
    },
    {
     "data": {
      "application/vnd.jupyter.widget-view+json": {
       "model_id": "9f708ff7a1384326beafeb5bb9ef58d7",
       "version_major": 2,
       "version_minor": 0
      },
      "text/plain": [
       "HTML(value='<pre></pre>')"
      ]
     },
     "metadata": {},
     "output_type": "display_data"
    },
    {
     "data": {
      "application/vnd.jupyter.widget-view+json": {
       "model_id": "d01d0d15828a4781a0ae528176e9f29b",
       "version_major": 2,
       "version_minor": 0
      },
      "text/plain": [
       "Image(value=b'\\x89PNG\\r\\n\\x1a\\n\\x00\\x00\\x00\\rIHDR\\x00\\x00\\x01h\\x00\\x00\\x01h\\x08\\x06\\x00\\x00\\x00z\\xe5a\\xd5\\x00\\…"
      ]
     },
     "metadata": {},
     "output_type": "display_data"
    }
   ],
   "source": [
    "#Interactive Bloch Sphere plotted below\n",
    "#The north and south pole represent being in states 0 and 1, respectively\n",
    "#All other positions on the sphere are superpositions of these states\n",
    "#Position on the equator means when the qubit is measured there is a 50/50 probability of being in state 0 or 1\n",
    "\n",
    "#theta = 0 means you are on the north pole and theta = pi means you are on the south pole (z-axis)\n",
    "#phi = 0 means you are on the front of the of the sphere and phi = pi means you are on the back (x-axis) \n",
    "from qiskit_textbook.widgets import bloch_calc\n",
    "bloch_calc()"
   ]
  }
 ],
 "metadata": {
  "kernelspec": {
   "display_name": "Python 3 (ipykernel)",
   "language": "python",
   "name": "python3"
  },
  "language_info": {
   "codemirror_mode": {
    "name": "ipython",
    "version": 3
   },
   "file_extension": ".py",
   "mimetype": "text/x-python",
   "name": "python",
   "nbconvert_exporter": "python",
   "pygments_lexer": "ipython3",
   "version": "3.9.7"
  }
 },
 "nbformat": 4,
 "nbformat_minor": 2
}
